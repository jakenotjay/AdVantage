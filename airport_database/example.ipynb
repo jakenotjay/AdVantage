{
 "cells": [
  {
   "cell_type": "markdown",
   "metadata": {},
   "source": [
    "# Airport Database \n",
    "This module is used to be able to get airport info based on IATA or ICAO codes. Latitude and Longitudes bounding box can be generated to allow for easier searches using a Rect bounding box"
   ]
  },
  {
   "cell_type": "code",
   "execution_count": 9,
   "metadata": {},
   "outputs": [
    {
     "name": "stdout",
     "output_type": "stream",
     "text": [
      "/home/carl/Projects/python-plane-ml/airport_database/global_airports_sqlite.db\n",
      "AUCKLAND INTERNATIONAL\n",
      "[-37.016994020136615, 174.78073708152777, -36.999005979863384, 174.8032629184722]\n"
     ]
    }
   ],
   "source": [
    "from airports import Airports\n",
    "nzAirport = Airports().findByIATACode('AKL')\n",
    "boundingBox = nzAirport.boundingBox(halfSideInKm=1)\n",
    "print(nzAirport.name)\n",
    "print(boundingBox)"
   ]
  }
 ],
 "metadata": {
  "interpreter": {
   "hash": "916dbcbb3f70747c44a77c7bcd40155683ae19c65e1c03b4aa3499c5328201f1"
  },
  "kernelspec": {
   "display_name": "Python 3.8.10 64-bit",
   "language": "python",
   "name": "python3"
  },
  "language_info": {
   "codemirror_mode": {
    "name": "ipython",
    "version": 3
   },
   "file_extension": ".py",
   "mimetype": "text/x-python",
   "name": "python",
   "nbconvert_exporter": "python",
   "pygments_lexer": "ipython3",
   "version": "3.8.10"
  },
  "orig_nbformat": 4
 },
 "nbformat": 4,
 "nbformat_minor": 2
}
