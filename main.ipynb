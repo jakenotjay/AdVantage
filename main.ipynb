{
 "cells": [
  {
   "cell_type": "markdown",
   "metadata": {},
   "source": [
    "# Download yolov5 repository"
   ]
  },
  {
   "cell_type": "code",
   "execution_count": 2,
   "metadata": {},
   "outputs": [
    {
     "name": "stdout",
     "output_type": "stream",
     "text": [
      "fatal: destination path 'yolov5' already exists and is not an empty directory.\n"
     ]
    }
   ],
   "source": [
    "!git clone https://github.com/ultralytics/yolov5.git"
   ]
  },
  {
   "cell_type": "markdown",
   "metadata": {},
   "source": [
    "# download weights"
   ]
  },
  {
   "cell_type": "code",
   "execution_count": 3,
   "metadata": {},
   "outputs": [
    {
     "name": "stdout",
     "output_type": "stream",
     "text": [
      "--2022-03-02 23:05:13--  https://doc-0s-8o-docs.googleusercontent.com/docs/securesc/qkaugo6314u8fv5lmscc33kqv5o3bopg/t810lfv1p8l94jf463k5rkpqjd2crpib/1646082975000/07750003106284155945/16543569848639810509/1W4E7kawGQfTV2k0LxCDPCnPHc32yj6pv?e=download\n",
      "Resolving doc-0s-8o-docs.googleusercontent.com (doc-0s-8o-docs.googleusercontent.com)... 142.250.187.193, 2a00:1450:4009:81f::2001\n",
      "Connecting to doc-0s-8o-docs.googleusercontent.com (doc-0s-8o-docs.googleusercontent.com)|142.250.187.193|:443... connected.\n",
      "HTTP request sent, awaiting response... 403 Forbidden\n",
      "2022-03-02 23:05:14 ERROR 403: Forbidden.\n",
      "\n"
     ]
    }
   ],
   "source": [
    "!wget https://doc-0s-8o-docs.googleusercontent.com/docs/securesc/qkaugo6314u8fv5lmscc33kqv5o3bopg/t810lfv1p8l94jf463k5rkpqjd2crpib/1646082975000/07750003106284155945/16543569848639810509/1W4E7kawGQfTV2k0LxCDPCnPHc32yj6pv?e=download"
   ]
  },
  {
   "cell_type": "markdown",
   "metadata": {},
   "source": [
    "# Pipeline todo\n",
    "- get video from vantage platform (or wget a pre-downloaded video for POC)\n",
    "- split into frames  or load video frame per frame using open cv\n",
    "- run yolo on each frame recording bbox of each image in yolo format\n",
    "- convert yolo format bbox to geographic format using frame metadata and projection\n",
    "    - display on map for POC\n",
    "- create binary image which is geo based\n",
    "- run particle filter or something similar using CV2 to track objects\n",
    "- use tracked objects positioning etc. to calculate speed and heading\n",
    "- display this both in a map and on the original video"
   ]
  },
  {
   "cell_type": "code",
   "execution_count": null,
   "metadata": {},
   "outputs": [],
   "source": [
    "#Example reading per frame\n",
    "import cv2\n",
    "import torch\n",
    "\n",
    "video = cv2.VideoCapture('input/test.mp4')\n",
    "model = torch.hub.load('input/yolov5', 'yolov5s') \n",
    "while True:\n",
    "    ret, frame = video.read()\n",
    "    if not ret:\n",
    "        break\n",
    "    \n",
    "    results = model(frame)\n",
    "    results.print()  # or .show(), .save(), .crop(), .pandas(), etc.\n",
    "    \n",
    "video.release()"
   ]
  },
  {
   "cell_type": "code",
   "execution_count": null,
   "metadata": {},
   "outputs": [],
   "source": [
    "#example to search for airport by IATACode and download video\n",
    "import getpass\n",
    "from vantage_api.services import VantageServiceApi\n",
    "from vantage_api.utils import GeoRequest\n",
    "from airport_database.airports import Airports\n",
    "\n",
    "user = getpass.getpass('Username: ')\n",
    "apiKey = getpass.getpass('API Key: ')\n",
    "\n",
    "vantageApi = VantageServiceApi(user, apiKey)\n",
    "\n",
    "nzAirport = Airports().findByIATACode('AKL')\n",
    "\n",
    "geoData = GeoRequest()\n",
    "geoData.fromBoundingBox(nzAirport.boundingBox(halfSideInKm=10))\n",
    "\n",
    "features = vantageApi.getSearch(geoData).getFeatures()\n",
    "keys = list(features.keys())\n",
    "firstFeature = features[keys[0]]\n",
    "\n",
    "outputFiles = vantageApi.downloadFiles(firstFeature,'./input', verbose=True)\n"
   ]
  }
 ],
 "metadata": {
  "interpreter": {
   "hash": "916dbcbb3f70747c44a77c7bcd40155683ae19c65e1c03b4aa3499c5328201f1"
  },
  "kernelspec": {
   "display_name": "Python 3.8.10 64-bit",
   "language": "python",
   "name": "python3"
  },
  "language_info": {
   "codemirror_mode": {
    "name": "ipython",
    "version": 3
   },
   "file_extension": ".py",
   "mimetype": "text/x-python",
   "name": "python",
   "nbconvert_exporter": "python",
   "pygments_lexer": "ipython3",
   "version": "3.8.10"
  },
  "orig_nbformat": 4
 },
 "nbformat": 4,
 "nbformat_minor": 2
}
