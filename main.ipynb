{
 "cells": [
  {
   "cell_type": "markdown",
   "metadata": {},
   "source": [
    "# Download yolov5 repository"
   ]
  },
  {
   "cell_type": "code",
   "execution_count": null,
   "metadata": {},
   "outputs": [],
   "source": [
    "!git clone https://github.com/ultralytics/yolov5.git"
   ]
  },
  {
   "cell_type": "markdown",
   "metadata": {},
   "source": [
    "# download weights"
   ]
  },
  {
   "cell_type": "code",
   "execution_count": null,
   "metadata": {},
   "outputs": [],
   "source": [
    "!wget https://doc-0s-8o-docs.googleusercontent.com/docs/securesc/qkaugo6314u8fv5lmscc33kqv5o3bopg/t810lfv1p8l94jf463k5rkpqjd2crpib/1646082975000/07750003106284155945/16543569848639810509/1W4E7kawGQfTV2k0LxCDPCnPHc32yj6pv?e=download"
   ]
  },
  {
   "cell_type": "markdown",
   "metadata": {},
   "source": [
    "# Pipeline todo\n",
    "- get video from vantage platform (or wget a pre-downloaded video for POC)\n",
    "- split into frames\n",
    "- run yolo on each frame recording bbox of each image in yolo format\n",
    "- convert yolo format bbox to geographic format using frame metadata and projection\n",
    "    - display on map for POC\n",
    "- create binary image which is geo based\n",
    "- run particle filter or something similar using CV2 to track objects\n",
    "- use tracked objects positioning etc. to calculate speed and heading\n",
    "- display this both in a map and on the original video"
   ]
  }
 ],
 "metadata": {
  "language_info": {
   "name": "python"
  },
  "orig_nbformat": 4
 },
 "nbformat": 4,
 "nbformat_minor": 2
}
