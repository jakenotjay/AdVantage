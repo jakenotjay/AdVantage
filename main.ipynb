{
 "cells": [
  {
   "cell_type": "markdown",
   "metadata": {},
   "source": [
    "# AdVantage\n",
    "adVantage is a collection of tools to be able to detect moving aircraft in a video from the vantage platform. Below is a walkthrough how to perform the tracking process.\n",
    "\n",
    "https://vantage.earthi.world/explore/"
   ]
  },
  {
   "cell_type": "markdown",
   "metadata": {},
   "source": [
    "### First install requirements"
   ]
  },
  {
   "cell_type": "code",
   "execution_count": 5,
   "metadata": {},
   "outputs": [
    {
     "name": "stdout",
     "output_type": "stream",
     "text": [
      "/Users/jw/AdVantage\n",
      "Requirement already satisfied: requests==2.27.1 in /Library/Frameworks/Python.framework/Versions/3.9/lib/python3.9/site-packages (from -r requirements.txt (line 1)) (2.27.1)\n",
      "Requirement already satisfied: geopy==2.2.0 in /Library/Frameworks/Python.framework/Versions/3.9/lib/python3.9/site-packages (from -r requirements.txt (line 2)) (2.2.0)\n",
      "Requirement already satisfied: numpy==1.19.3 in /Library/Frameworks/Python.framework/Versions/3.9/lib/python3.9/site-packages (from -r requirements.txt (line 3)) (1.19.3)\n",
      "Requirement already satisfied: opencv-python==4.5.5.62 in /Library/Frameworks/Python.framework/Versions/3.9/lib/python3.9/site-packages (from -r requirements.txt (line 4)) (4.5.5.62)\n",
      "Requirement already satisfied: pyproj in /Library/Frameworks/Python.framework/Versions/3.9/lib/python3.9/site-packages (from -r requirements.txt (line 5)) (3.3.0)\n",
      "Requirement already satisfied: rasterio in /Library/Frameworks/Python.framework/Versions/3.9/lib/python3.9/site-packages (from -r requirements.txt (line 6)) (1.2.10)\n",
      "Requirement already satisfied: matplotlib>=3.2.2 in /Users/jw/Library/Python/3.9/lib/python/site-packages (from -r requirements.txt (line 11)) (3.4.3)\n",
      "Requirement already satisfied: Pillow>=7.1.2 in /Users/jw/Library/Python/3.9/lib/python/site-packages (from -r requirements.txt (line 12)) (8.3.1)\n",
      "Requirement already satisfied: PyYAML>=5.3.1 in /Library/Frameworks/Python.framework/Versions/3.9/lib/python3.9/site-packages (from -r requirements.txt (line 13)) (6.0)\n",
      "Requirement already satisfied: scipy>=1.4.1 in /Users/jw/Library/Python/3.9/lib/python/site-packages (from -r requirements.txt (line 14)) (1.7.1)\n",
      "Requirement already satisfied: torch>=1.7.0 in /Library/Frameworks/Python.framework/Versions/3.9/lib/python3.9/site-packages (from -r requirements.txt (line 15)) (1.10.2)\n",
      "Requirement already satisfied: torchvision>=0.8.1 in /Library/Frameworks/Python.framework/Versions/3.9/lib/python3.9/site-packages (from -r requirements.txt (line 16)) (0.11.3)\n",
      "Requirement already satisfied: tqdm>=4.41.0 in /Library/Frameworks/Python.framework/Versions/3.9/lib/python3.9/site-packages (from -r requirements.txt (line 17)) (4.63.0)\n",
      "Requirement already satisfied: tensorboard>=2.4.1 in /Library/Frameworks/Python.framework/Versions/3.9/lib/python3.9/site-packages (from -r requirements.txt (line 20)) (2.7.0)\n",
      "Requirement already satisfied: pandas>=1.1.4 in /Users/jw/Library/Python/3.9/lib/python/site-packages (from -r requirements.txt (line 24)) (1.3.2)\n",
      "Requirement already satisfied: seaborn>=0.11.0 in /Library/Frameworks/Python.framework/Versions/3.9/lib/python3.9/site-packages (from -r requirements.txt (line 25)) (0.11.2)\n",
      "Requirement already satisfied: thop in /Library/Frameworks/Python.framework/Versions/3.9/lib/python3.9/site-packages (from -r requirements.txt (line 41)) (0.0.31.post2005241907)\n",
      "Requirement already satisfied: urllib3<1.27,>=1.21.1 in /Library/Frameworks/Python.framework/Versions/3.9/lib/python3.9/site-packages (from requests==2.27.1->-r requirements.txt (line 1)) (1.26.6)\n",
      "Requirement already satisfied: idna<4,>=2.5 in /Library/Frameworks/Python.framework/Versions/3.9/lib/python3.9/site-packages (from requests==2.27.1->-r requirements.txt (line 1)) (3.2)\n",
      "Requirement already satisfied: charset-normalizer~=2.0.0 in /Library/Frameworks/Python.framework/Versions/3.9/lib/python3.9/site-packages (from requests==2.27.1->-r requirements.txt (line 1)) (2.0.4)\n",
      "Requirement already satisfied: certifi>=2017.4.17 in /Library/Frameworks/Python.framework/Versions/3.9/lib/python3.9/site-packages (from requests==2.27.1->-r requirements.txt (line 1)) (2021.5.30)\n",
      "Requirement already satisfied: geographiclib<2,>=1.49 in /Library/Frameworks/Python.framework/Versions/3.9/lib/python3.9/site-packages (from geopy==2.2.0->-r requirements.txt (line 2)) (1.52)\n",
      "Requirement already satisfied: pyparsing>=2.2.1 in /Users/jw/Library/Python/3.9/lib/python/site-packages (from matplotlib>=3.2.2->-r requirements.txt (line 11)) (2.4.7)\n",
      "Requirement already satisfied: cycler>=0.10 in /Users/jw/Library/Python/3.9/lib/python/site-packages (from matplotlib>=3.2.2->-r requirements.txt (line 11)) (0.10.0)\n",
      "Requirement already satisfied: python-dateutil>=2.7 in /Users/jw/Library/Python/3.9/lib/python/site-packages (from matplotlib>=3.2.2->-r requirements.txt (line 11)) (2.8.2)\n",
      "Requirement already satisfied: kiwisolver>=1.0.1 in /Users/jw/Library/Python/3.9/lib/python/site-packages (from matplotlib>=3.2.2->-r requirements.txt (line 11)) (1.3.1)\n",
      "Requirement already satisfied: typing-extensions in /Library/Frameworks/Python.framework/Versions/3.9/lib/python3.9/site-packages (from torch>=1.7.0->-r requirements.txt (line 15)) (4.0.1)\n",
      "Requirement already satisfied: markdown>=2.6.8 in /Library/Frameworks/Python.framework/Versions/3.9/lib/python3.9/site-packages (from tensorboard>=2.4.1->-r requirements.txt (line 20)) (3.3.6)\n",
      "Requirement already satisfied: grpcio>=1.24.3 in /Library/Frameworks/Python.framework/Versions/3.9/lib/python3.9/site-packages (from tensorboard>=2.4.1->-r requirements.txt (line 20)) (1.43.0)\n",
      "Requirement already satisfied: setuptools>=41.0.0 in /Library/Frameworks/Python.framework/Versions/3.9/lib/python3.9/site-packages (from tensorboard>=2.4.1->-r requirements.txt (line 20)) (56.0.0)\n",
      "Requirement already satisfied: protobuf>=3.6.0 in /Library/Frameworks/Python.framework/Versions/3.9/lib/python3.9/site-packages (from tensorboard>=2.4.1->-r requirements.txt (line 20)) (3.17.3)\n",
      "Requirement already satisfied: tensorboard-data-server<0.7.0,>=0.6.0 in /Library/Frameworks/Python.framework/Versions/3.9/lib/python3.9/site-packages (from tensorboard>=2.4.1->-r requirements.txt (line 20)) (0.6.1)\n",
      "Requirement already satisfied: tensorboard-plugin-wit>=1.6.0 in /Library/Frameworks/Python.framework/Versions/3.9/lib/python3.9/site-packages (from tensorboard>=2.4.1->-r requirements.txt (line 20)) (1.8.0)\n",
      "Requirement already satisfied: google-auth-oauthlib<0.5,>=0.4.1 in /Library/Frameworks/Python.framework/Versions/3.9/lib/python3.9/site-packages (from tensorboard>=2.4.1->-r requirements.txt (line 20)) (0.4.6)\n",
      "Requirement already satisfied: wheel>=0.26 in /Library/Frameworks/Python.framework/Versions/3.9/lib/python3.9/site-packages (from tensorboard>=2.4.1->-r requirements.txt (line 20)) (0.37.1)\n",
      "Requirement already satisfied: google-auth<3,>=1.6.3 in /Library/Frameworks/Python.framework/Versions/3.9/lib/python3.9/site-packages (from tensorboard>=2.4.1->-r requirements.txt (line 20)) (1.35.0)\n",
      "Requirement already satisfied: absl-py>=0.4 in /Library/Frameworks/Python.framework/Versions/3.9/lib/python3.9/site-packages (from tensorboard>=2.4.1->-r requirements.txt (line 20)) (1.0.0)\n",
      "Requirement already satisfied: werkzeug>=0.11.15 in /Library/Frameworks/Python.framework/Versions/3.9/lib/python3.9/site-packages (from tensorboard>=2.4.1->-r requirements.txt (line 20)) (2.0.2)\n",
      "Requirement already satisfied: pytz>=2017.3 in /Users/jw/Library/Python/3.9/lib/python/site-packages (from pandas>=1.1.4->-r requirements.txt (line 24)) (2021.1)\n",
      "Requirement already satisfied: six in /Users/jw/Library/Python/3.9/lib/python/site-packages (from absl-py>=0.4->tensorboard>=2.4.1->-r requirements.txt (line 20)) (1.16.0)\n",
      "Requirement already satisfied: pyasn1-modules>=0.2.1 in /Library/Frameworks/Python.framework/Versions/3.9/lib/python3.9/site-packages (from google-auth<3,>=1.6.3->tensorboard>=2.4.1->-r requirements.txt (line 20)) (0.2.8)\n",
      "Requirement already satisfied: rsa<5,>=3.1.4 in /Library/Frameworks/Python.framework/Versions/3.9/lib/python3.9/site-packages (from google-auth<3,>=1.6.3->tensorboard>=2.4.1->-r requirements.txt (line 20)) (4.7.2)\n",
      "Requirement already satisfied: cachetools<5.0,>=2.0.0 in /Library/Frameworks/Python.framework/Versions/3.9/lib/python3.9/site-packages (from google-auth<3,>=1.6.3->tensorboard>=2.4.1->-r requirements.txt (line 20)) (4.2.2)\n",
      "Requirement already satisfied: requests-oauthlib>=0.7.0 in /Library/Frameworks/Python.framework/Versions/3.9/lib/python3.9/site-packages (from google-auth-oauthlib<0.5,>=0.4.1->tensorboard>=2.4.1->-r requirements.txt (line 20)) (1.3.0)\n",
      "Requirement already satisfied: importlib-metadata>=4.4 in /Library/Frameworks/Python.framework/Versions/3.9/lib/python3.9/site-packages (from markdown>=2.6.8->tensorboard>=2.4.1->-r requirements.txt (line 20)) (4.10.0)\n",
      "Requirement already satisfied: zipp>=0.5 in /Library/Frameworks/Python.framework/Versions/3.9/lib/python3.9/site-packages (from importlib-metadata>=4.4->markdown>=2.6.8->tensorboard>=2.4.1->-r requirements.txt (line 20)) (3.6.0)\n",
      "Requirement already satisfied: pyasn1<0.5.0,>=0.4.6 in /Library/Frameworks/Python.framework/Versions/3.9/lib/python3.9/site-packages (from pyasn1-modules>=0.2.1->google-auth<3,>=1.6.3->tensorboard>=2.4.1->-r requirements.txt (line 20)) (0.4.8)\n",
      "Requirement already satisfied: oauthlib>=3.0.0 in /Library/Frameworks/Python.framework/Versions/3.9/lib/python3.9/site-packages (from requests-oauthlib>=0.7.0->google-auth-oauthlib<0.5,>=0.4.1->tensorboard>=2.4.1->-r requirements.txt (line 20)) (3.1.1)\n",
      "Requirement already satisfied: attrs in /Users/jw/Library/Python/3.9/lib/python/site-packages (from rasterio->-r requirements.txt (line 6)) (21.2.0)\n",
      "Requirement already satisfied: cligj>=0.5 in /Library/Frameworks/Python.framework/Versions/3.9/lib/python3.9/site-packages (from rasterio->-r requirements.txt (line 6)) (0.7.2)\n",
      "Requirement already satisfied: click-plugins in /Library/Frameworks/Python.framework/Versions/3.9/lib/python3.9/site-packages (from rasterio->-r requirements.txt (line 6)) (1.1.1)\n",
      "Requirement already satisfied: click>=4.0 in /Library/Frameworks/Python.framework/Versions/3.9/lib/python3.9/site-packages (from rasterio->-r requirements.txt (line 6)) (8.0.3)\n",
      "Requirement already satisfied: snuggs>=1.4.1 in /Library/Frameworks/Python.framework/Versions/3.9/lib/python3.9/site-packages (from rasterio->-r requirements.txt (line 6)) (1.4.7)\n",
      "Requirement already satisfied: affine in /Library/Frameworks/Python.framework/Versions/3.9/lib/python3.9/site-packages (from rasterio->-r requirements.txt (line 6)) (2.3.0)\n",
      "\u001b[33mWARNING: You are using pip version 21.1.3; however, version 22.0.4 is available.\n",
      "You should consider upgrading via the '/usr/local/bin/python3 -m pip install --upgrade pip' command.\u001b[0m\n"
     ]
    }
   ],
   "source": [
    "%cd ~/AdVantage\n",
    "!python3 -m pip install -r requirements.txt"
   ]
  },
  {
   "cell_type": "markdown",
   "metadata": {},
   "source": [
    "### Download yolov5 repository\n",
    "\n",
    "Yolov5 repository needs to be installed before the AdVantage example will work. You will need to clone the repository into the current working directory."
   ]
  },
  {
   "cell_type": "code",
   "execution_count": 6,
   "metadata": {},
   "outputs": [
    {
     "name": "stdout",
     "output_type": "stream",
     "text": [
      "Cloning into 'yolov5'...\n",
      "remote: Enumerating objects: 11290, done.\u001b[K\n",
      "remote: Total 11290 (delta 0), reused 0 (delta 0), pack-reused 11290\u001b[K\n",
      "Receiving objects: 100% (11290/11290), 11.19 MiB | 20.50 MiB/s, done.\n",
      "Resolving deltas: 100% (7802/7802), done.\n"
     ]
    }
   ],
   "source": [
    "!git clone https://github.com/ultralytics/yolov5.git"
   ]
  },
  {
   "cell_type": "code",
   "execution_count": 7,
   "metadata": {},
   "outputs": [
    {
     "name": "stdout",
     "output_type": "stream",
     "text": [
      "/Users/jw/AdVantage/yolov5\n"
     ]
    }
   ],
   "source": [
    "%cd ~/AdVantage/yolov5\n",
    "!git checkout 596de6d5a00223dc4be86377dfba6df4341b76b1\n",
    "!git pull"
   ]
  },
  {
   "cell_type": "code",
   "execution_count": 8,
   "metadata": {},
   "outputs": [
    {
     "name": "stdout",
     "output_type": "stream",
     "text": [
      "/Users/jw/AdVantage/yolov5/input\n",
      "Requirement already satisfied: gdown in /Library/Frameworks/Python.framework/Versions/3.9/lib/python3.9/site-packages (4.4.0)\n",
      "Requirement already satisfied: tqdm in /Library/Frameworks/Python.framework/Versions/3.9/lib/python3.9/site-packages (from gdown) (4.63.0)\n",
      "Requirement already satisfied: requests[socks] in /Library/Frameworks/Python.framework/Versions/3.9/lib/python3.9/site-packages (from gdown) (2.27.1)\n",
      "Requirement already satisfied: beautifulsoup4 in /Library/Frameworks/Python.framework/Versions/3.9/lib/python3.9/site-packages (from gdown) (4.10.0)\n",
      "Requirement already satisfied: filelock in /Library/Frameworks/Python.framework/Versions/3.9/lib/python3.9/site-packages (from gdown) (3.6.0)\n",
      "Requirement already satisfied: six in /Users/jw/Library/Python/3.9/lib/python/site-packages (from gdown) (1.16.0)\n",
      "Requirement already satisfied: soupsieve>1.2 in /Library/Frameworks/Python.framework/Versions/3.9/lib/python3.9/site-packages (from beautifulsoup4->gdown) (2.3.1)\n",
      "Requirement already satisfied: idna<4,>=2.5 in /Library/Frameworks/Python.framework/Versions/3.9/lib/python3.9/site-packages (from requests[socks]->gdown) (3.2)\n",
      "Requirement already satisfied: charset-normalizer~=2.0.0 in /Library/Frameworks/Python.framework/Versions/3.9/lib/python3.9/site-packages (from requests[socks]->gdown) (2.0.4)\n",
      "Requirement already satisfied: urllib3<1.27,>=1.21.1 in /Library/Frameworks/Python.framework/Versions/3.9/lib/python3.9/site-packages (from requests[socks]->gdown) (1.26.6)\n",
      "Requirement already satisfied: certifi>=2017.4.17 in /Library/Frameworks/Python.framework/Versions/3.9/lib/python3.9/site-packages (from requests[socks]->gdown) (2021.5.30)\n",
      "Requirement already satisfied: PySocks!=1.5.7,>=1.5.6 in /Library/Frameworks/Python.framework/Versions/3.9/lib/python3.9/site-packages (from requests[socks]->gdown) (1.7.1)\n",
      "\u001b[33mWARNING: You are using pip version 21.1.3; however, version 22.0.4 is available.\n",
      "You should consider upgrading via the '/usr/local/bin/python3 -m pip install --upgrade pip' command.\u001b[0m\n",
      "Note: you may need to restart the kernel to use updated packages.\n",
      "Downloading...\n",
      "From: https://drive.google.com/uc?id=1GBJyQqSQaUJdeXBS-CzZwjzEeAUrv47-\n",
      "To: /Users/jw/AdVantage/yolov5/input/best.pt\n",
      "100%|██████████████████████████████████████| 14.5M/14.5M [00:00<00:00, 40.5MB/s]\n",
      "/Users/jw/AdVantage\n",
      "/Users/jw/AdVantage/input\n",
      "Downloading...\n",
      "From: https://drive.google.com/uc?id=1GBJyQqSQaUJdeXBS-CzZwjzEeAUrv47-\n",
      "To: /Users/jw/AdVantage/input/best.pt\n",
      "100%|██████████████████████████████████████| 14.5M/14.5M [00:00<00:00, 30.6MB/s]\n",
      "/Users/jw/AdVantage\n"
     ]
    }
   ],
   "source": [
    "# download weights\n",
    "%cd ~/AdVantage\n",
    "!mkdir input\n",
    "%cd ~/AdVantage/input\n",
    "!gdown \"https://drive.google.com/uc?id=1GBJyQqSQaUJdeXBS-CzZwjzEeAUrv47-\"\n",
    "\n",
    "%cd ~/AdVantage\n",
    "!mkdir output"
   ]
  },
  {
   "cell_type": "markdown",
   "metadata": {},
   "source": [
    "### Authenticate with the Vantage platform\n",
    "To interact with the api you will need an API key that can be generated on the vantage platform. If you do not have this please generate a key from your account area.\n",
    "https://vantage.earthi.world/advanced/#/account . Your username will be the email address you used to sign up with"
   ]
  },
  {
   "cell_type": "code",
   "execution_count": 7,
   "metadata": {},
   "outputs": [
    {
     "name": "stdout",
     "output_type": "stream",
     "text": [
      "/Users/jw/AdVantage\n"
     ]
    },
    {
     "ename": "KeyboardInterrupt",
     "evalue": "Interrupted by user",
     "output_type": "error",
     "traceback": [
      "\u001b[0;31m---------------------------------------------------------------------------\u001b[0m",
      "\u001b[0;31mKeyboardInterrupt\u001b[0m                         Traceback (most recent call last)",
      "\u001b[0;32m/var/folders/qp/ddcksjvs435_vlfpzvt_4t0h0000gn/T/ipykernel_78908/285378299.py\u001b[0m in \u001b[0;36m<module>\u001b[0;34m\u001b[0m\n\u001b[1;32m      3\u001b[0m \u001b[0;32mfrom\u001b[0m \u001b[0mvantage_api\u001b[0m\u001b[0;34m.\u001b[0m\u001b[0mservices\u001b[0m \u001b[0;32mimport\u001b[0m \u001b[0mVantageServiceApi\u001b[0m\u001b[0;34m\u001b[0m\u001b[0;34m\u001b[0m\u001b[0m\n\u001b[1;32m      4\u001b[0m \u001b[0;34m\u001b[0m\u001b[0m\n\u001b[0;32m----> 5\u001b[0;31m \u001b[0muser\u001b[0m \u001b[0;34m=\u001b[0m \u001b[0minput\u001b[0m\u001b[0;34m(\u001b[0m\u001b[0;34m'Vantage Email Address: '\u001b[0m\u001b[0;34m)\u001b[0m\u001b[0;34m\u001b[0m\u001b[0;34m\u001b[0m\u001b[0m\n\u001b[0m\u001b[1;32m      6\u001b[0m \u001b[0mapiKey\u001b[0m \u001b[0;34m=\u001b[0m \u001b[0mgetpass\u001b[0m\u001b[0;34m.\u001b[0m\u001b[0mgetpass\u001b[0m\u001b[0;34m(\u001b[0m\u001b[0;34m'API Key:'\u001b[0m\u001b[0;34m)\u001b[0m\u001b[0;34m\u001b[0m\u001b[0;34m\u001b[0m\u001b[0m\n\u001b[1;32m      7\u001b[0m \u001b[0;34m\u001b[0m\u001b[0m\n",
      "\u001b[0;32m~/Library/Python/3.9/lib/python/site-packages/ipykernel/kernelbase.py\u001b[0m in \u001b[0;36mraw_input\u001b[0;34m(self, prompt)\u001b[0m\n\u001b[1;32m   1004\u001b[0m                 \u001b[0;34m\"raw_input was called, but this frontend does not support input requests.\"\u001b[0m\u001b[0;34m\u001b[0m\u001b[0;34m\u001b[0m\u001b[0m\n\u001b[1;32m   1005\u001b[0m             )\n\u001b[0;32m-> 1006\u001b[0;31m         return self._input_request(\n\u001b[0m\u001b[1;32m   1007\u001b[0m             \u001b[0mstr\u001b[0m\u001b[0;34m(\u001b[0m\u001b[0mprompt\u001b[0m\u001b[0;34m)\u001b[0m\u001b[0;34m,\u001b[0m\u001b[0;34m\u001b[0m\u001b[0;34m\u001b[0m\u001b[0m\n\u001b[1;32m   1008\u001b[0m             \u001b[0mself\u001b[0m\u001b[0;34m.\u001b[0m\u001b[0m_parent_ident\u001b[0m\u001b[0;34m[\u001b[0m\u001b[0;34m\"shell\"\u001b[0m\u001b[0;34m]\u001b[0m\u001b[0;34m,\u001b[0m\u001b[0;34m\u001b[0m\u001b[0;34m\u001b[0m\u001b[0m\n",
      "\u001b[0;32m~/Library/Python/3.9/lib/python/site-packages/ipykernel/kernelbase.py\u001b[0m in \u001b[0;36m_input_request\u001b[0;34m(self, prompt, ident, parent, password)\u001b[0m\n\u001b[1;32m   1049\u001b[0m             \u001b[0;32mexcept\u001b[0m \u001b[0mKeyboardInterrupt\u001b[0m\u001b[0;34m:\u001b[0m\u001b[0;34m\u001b[0m\u001b[0;34m\u001b[0m\u001b[0m\n\u001b[1;32m   1050\u001b[0m                 \u001b[0;31m# re-raise KeyboardInterrupt, to truncate traceback\u001b[0m\u001b[0;34m\u001b[0m\u001b[0;34m\u001b[0m\u001b[0;34m\u001b[0m\u001b[0m\n\u001b[0;32m-> 1051\u001b[0;31m                 \u001b[0;32mraise\u001b[0m \u001b[0mKeyboardInterrupt\u001b[0m\u001b[0;34m(\u001b[0m\u001b[0;34m\"Interrupted by user\"\u001b[0m\u001b[0;34m)\u001b[0m \u001b[0;32mfrom\u001b[0m \u001b[0;32mNone\u001b[0m\u001b[0;34m\u001b[0m\u001b[0;34m\u001b[0m\u001b[0m\n\u001b[0m\u001b[1;32m   1052\u001b[0m             \u001b[0;32mexcept\u001b[0m \u001b[0mException\u001b[0m\u001b[0;34m:\u001b[0m\u001b[0;34m\u001b[0m\u001b[0;34m\u001b[0m\u001b[0m\n\u001b[1;32m   1053\u001b[0m                 \u001b[0mself\u001b[0m\u001b[0;34m.\u001b[0m\u001b[0mlog\u001b[0m\u001b[0;34m.\u001b[0m\u001b[0mwarning\u001b[0m\u001b[0;34m(\u001b[0m\u001b[0;34m\"Invalid Message:\"\u001b[0m\u001b[0;34m,\u001b[0m \u001b[0mexc_info\u001b[0m\u001b[0;34m=\u001b[0m\u001b[0;32mTrue\u001b[0m\u001b[0;34m)\u001b[0m\u001b[0;34m\u001b[0m\u001b[0;34m\u001b[0m\u001b[0m\n",
      "\u001b[0;31mKeyboardInterrupt\u001b[0m: Interrupted by user"
     ]
    }
   ],
   "source": [
    "%cd ~/AdVantage\n",
    "import getpass\n",
    "from vantage_api.services import VantageServiceApi\n",
    "\n",
    "user = input('Vantage Email Address: ')\n",
    "apiKey = getpass.getpass('API Key:')\n",
    "\n",
    "vantageApi = VantageServiceApi(user, apiKey)"
   ]
  },
  {
   "cell_type": "markdown",
   "metadata": {},
   "source": [
    "### Searching for an Airport\n",
    "You are able to search for airports using the airport database. If you know the IATA code you can use the code below to find the airport. The result will give to longitude and latiute information you can use to search for videos on the Vantage platform. A couple of codes that can be used here:\n",
    "\n",
    "* AKL"
   ]
  },
  {
   "cell_type": "code",
   "execution_count": 12,
   "metadata": {},
   "outputs": [
    {
     "name": "stdout",
     "output_type": "stream",
     "text": [
      "IATA Code:  AKL\n"
     ]
    },
    {
     "name": "stdout",
     "output_type": "stream",
     "text": [
      "Airport: AUCKLAND INTERNATIONAL\n",
      "Latitude: -37.008\n",
      "Longitude: 174.792\n",
      "VX020001c0\n"
     ]
    },
    {
     "name": "stdout",
     "output_type": "stream",
     "text": [
      "Enter a Key to Process:  AUCKLAND INTERNATIONAL\n",
      "Enter a Key to Process:  Airport\n",
      "Enter a Key to Process:  VX020001c0\n"
     ]
    },
    {
     "name": "stdout",
     "output_type": "stream",
     "text": [
      "Chosen: https://esrin-data-input.s3.eu-west-2.amazonaws.com/Vivid-X2/VX020001c0.zip\n"
     ]
    }
   ],
   "source": [
    "from airport_database.airports import Airports\n",
    "from vantage_api.utils import GeoRequest\n",
    "\n",
    "iataCode = input('IATA Code: ')\n",
    "airports = Airports()\n",
    "airport = airports.findByIATACode(iataCode.upper())\n",
    "print('Airport: '+airport.name)\n",
    "print('Latitude: '+str(airport.lat_decimal))\n",
    "print('Longitude: '+str(airport.lon_decimal))\n",
    "\n",
    "geoData = GeoRequest()\n",
    "geoData.fromBoundingBox(airport.boundingBox(halfSideInKm=10))\n",
    "\n",
    "features = vantageApi.getSearch(geoData).getFeatures()\n",
    "for key in features.keys():\n",
    "    print(key)\n",
    "\n",
    "chosenFeature = None\n",
    "while chosenFeature == None:\n",
    "    chosenKey = input('Enter a Key to Process: ')    \n",
    "    if chosenKey in features.keys():\n",
    "        chosenFeature = features[chosenKey]        \n",
    "\n",
    "print('Chosen: '+chosenFeature)"
   ]
  },
  {
   "cell_type": "markdown",
   "metadata": {},
   "source": [
    "### Download Video From Vantage Platform\n",
    "Downloading the image from the vantage platform requires you to create a job and wait for its result. The API wrapper on AdVantage will allow you to do this in one command.\n",
    "\n",
    "You can also download a stablised video using the `stabliseVideo` service.\n",
    "\n",
    "Please choose one of two pieces of code to start the download. \n",
    "\n",
    "**Please note it can take quite some time to download these videos from the Vantage platform**"
   ]
  },
  {
   "cell_type": "code",
   "execution_count": null,
   "metadata": {},
   "outputs": [],
   "source": [
    "outputFiles = vantageApi.downloadFiles(chosenFeature,'./input', verbose=True)\n",
    "print(outputFiles)"
   ]
  },
  {
   "cell_type": "code",
   "execution_count": null,
   "metadata": {},
   "outputs": [
    {
     "name": "stdout",
     "output_type": "stream",
     "text": [
      "current job status: PENDING\n",
      "current job status: PENDING\n",
      "current job status: PENDING\n",
      "current job status: PENDING\n",
      "current job status: PENDING\n",
      "current job status: PENDING\n",
      "current job status: PENDING\n",
      "current job status: PENDING\n",
      "current job status: PENDING\n",
      "current job status: PENDING\n",
      "current job status: PENDING\n",
      "current job status: PENDING\n",
      "current job status: PENDING\n",
      "current job status: PENDING\n",
      "current job status: PENDING\n",
      "current job status: PENDING\n",
      "current job status: PENDING\n",
      "current job status: PENDING\n",
      "current job status: PENDING\n",
      "current job status: PENDING\n",
      "current job status: PENDING\n",
      "current job status: PENDING\n",
      "current job status: PENDING\n",
      "current job status: PENDING\n",
      "current job status: PENDING\n",
      "current job status: PENDING\n",
      "current job status: PENDING\n",
      "current job status: PENDING\n",
      "current job status: PENDING\n",
      "current job status: PENDING\n",
      "current job status: PENDING\n",
      "current job status: PENDING\n",
      "current job status: PENDING\n",
      "current job status: PENDING\n",
      "current job status: PENDING\n",
      "current job status: PENDING\n",
      "current job status: PENDING\n",
      "current job status: PENDING\n",
      "current job status: PENDING\n",
      "current job status: PENDING\n",
      "current job status: PENDING\n",
      "current job status: PENDING\n",
      "current job status: PENDING\n",
      "current job status: PENDING\n",
      "current job status: PENDING\n",
      "current job status: PENDING\n",
      "current job status: PENDING\n",
      "current job status: PENDING\n",
      "current job status: PENDING\n",
      "current job status: PENDING\n",
      "current job status: PENDING\n",
      "current job status: PENDING\n",
      "current job status: PENDING\n",
      "current job status: PENDING\n",
      "current job status: PENDING\n",
      "current job status: PENDING\n"
     ]
    }
   ],
   "source": [
    "%cd ~/AdVantage\n",
    "!mkdir input\n",
    "outputFiles = vantageApi.stabliseVideo(chosenFeature,'./input', verbose=True)\n",
    "print(outputFiles)"
   ]
  },
  {
   "cell_type": "markdown",
   "metadata": {},
   "source": [
    "### Download Video From Vantage Platform\n",
    "Often the vantage platform may not be responsive, instead we can download an example stabilised video from drive\n",
    "\n",
    "Users also have the option of supplying their own video outside of the vantage platform"
   ]
  },
  {
   "cell_type": "code",
   "execution_count": 9,
   "metadata": {},
   "outputs": [
    {
     "name": "stdout",
     "output_type": "stream",
     "text": [
      "/Users/jw/AdVantage/input\n",
      "Downloading...\n",
      "From: https://drive.google.com/uc?id=1xb83jYUIey1MFqC_yGzEIleE_055ExG_\n",
      "To: /Users/jw/AdVantage/input/VX020001c0.zip\n",
      "100%|██████████████████████████████████████| 1.51G/1.51G [00:37<00:00, 40.2MB/s]\n"
     ]
    }
   ],
   "source": [
    "%cd ~/AdVantage/input\n",
    "!gdown \"https://drive.google.com/uc?id=1xb83jYUIey1MFqC_yGzEIleE_055ExG_\""
   ]
  },
  {
   "cell_type": "code",
   "execution_count": 10,
   "metadata": {},
   "outputs": [
    {
     "name": "stdout",
     "output_type": "stream",
     "text": [
      "/Users/jw/AdVantage/input\n",
      "Archive:  VX020001c0.zip\n",
      " extracting: ./VX020001c0_VidMD.xml  \n",
      " extracting: ./VX020001c0.mp4        \n",
      " extracting: ./VX020001c0_AcqMD.xml  \n",
      " extracting: ./VX020001c0_geometry.xml  \n",
      " extracting: ./VX020001c0_Thumb.jpg  \n",
      " extracting: ./VX020001c0_Catalogue.xml  \n",
      " extracting: ./VX020001c0_Browse.mp4  \n"
     ]
    }
   ],
   "source": [
    "%cd ~/AdVantage/input\n",
    "!unzip VX020001c0.zip -d ./"
   ]
  },
  {
   "cell_type": "code",
   "execution_count": 11,
   "metadata": {},
   "outputs": [],
   "source": [
    "chosenFeature = './input/VX020001c0.mp4'"
   ]
  },
  {
   "cell_type": "markdown",
   "metadata": {},
   "source": [
    "### Detect Aircraft Movements\n",
    "The AdVantage platform is written to run via a pipeline. This allows you to easily create tasks for each frame of the video and perform tasks"
   ]
  },
  {
   "cell_type": "code",
   "execution_count": 12,
   "metadata": {},
   "outputs": [
    {
     "name": "stdout",
     "output_type": "stream",
     "text": [
      "/Users/jw/AdVantage\n"
     ]
    }
   ],
   "source": [
    "%cd ~/AdVantage\n",
    "import os\n",
    "import zipfile\n",
    "import sys\n",
    "sys.path.insert(0, './yolov5')\n",
    "\n",
    "from advantage.app import AdVantage\n",
    "from advantage.handlers import *\n",
    "from advantage.handlers.objectracker import ObjectTracker\n",
    "from advantage.handlers.verbose import Verbose\n",
    "from advantage.handlers.groundcontrolpoints import GroundControlPoints\n",
    "from advantage.handlers.backgroundframe import BackgroundFrame\n",
    "from advantage.handlers.stablisationdectection import StablisationDetection\n",
    "from advantage.handlers.videowriter import VideoWriter\n",
    "from advantage.handlers.yolo import YoloProcessor\n",
    "from advantage.handlers.movementfilter import MovementFilter\n",
    "from advantage.handlers.visulisation import VideoPredictionVisualisation\n",
    "from advantage.handlers.pipelinekiller import PipelineKiller\n",
    "from advantage.handlers.geodata import VideoAttachGeoData\n",
    "from advantage.handlers.geotracker import GeoObjectTracker\n",
    "from advantage.trackers import ObjectDetectionTracker"
   ]
  },
  {
   "cell_type": "code",
   "execution_count": 14,
   "metadata": {},
   "outputs": [
    {
     "name": "stdout",
     "output_type": "stream",
     "text": [
      "/Users/jw/AdVantage\n"
     ]
    },
    {
     "ename": "NameError",
     "evalue": "name '__file__' is not defined",
     "output_type": "error",
     "traceback": [
      "\u001b[0;31m---------------------------------------------------------------------------\u001b[0m",
      "\u001b[0;31mNameError\u001b[0m                                 Traceback (most recent call last)",
      "\u001b[0;32m/var/folders/qp/ddcksjvs435_vlfpzvt_4t0h0000gn/T/ipykernel_21734/32532601.py\u001b[0m in \u001b[0;36m<module>\u001b[0;34m\u001b[0m\n\u001b[1;32m      1\u001b[0m \u001b[0mget_ipython\u001b[0m\u001b[0;34m(\u001b[0m\u001b[0;34m)\u001b[0m\u001b[0;34m.\u001b[0m\u001b[0mrun_line_magic\u001b[0m\u001b[0;34m(\u001b[0m\u001b[0;34m'cd'\u001b[0m\u001b[0;34m,\u001b[0m \u001b[0;34m'~/AdVantage'\u001b[0m\u001b[0;34m)\u001b[0m\u001b[0;34m\u001b[0m\u001b[0;34m\u001b[0m\u001b[0m\n\u001b[1;32m      2\u001b[0m \u001b[0mapp\u001b[0m \u001b[0;34m=\u001b[0m \u001b[0mAdVantage\u001b[0m\u001b[0;34m(\u001b[0m\u001b[0;34m)\u001b[0m\u001b[0;34m\u001b[0m\u001b[0;34m\u001b[0m\u001b[0m\n\u001b[0;32m----> 3\u001b[0;31m \u001b[0mcwd\u001b[0m \u001b[0;34m=\u001b[0m \u001b[0mos\u001b[0m\u001b[0;34m.\u001b[0m\u001b[0mpath\u001b[0m\u001b[0;34m.\u001b[0m\u001b[0mdirname\u001b[0m\u001b[0;34m(\u001b[0m\u001b[0mos\u001b[0m\u001b[0;34m.\u001b[0m\u001b[0mpath\u001b[0m\u001b[0;34m.\u001b[0m\u001b[0mabspath\u001b[0m\u001b[0;34m(\u001b[0m\u001b[0m__file__\u001b[0m\u001b[0;34m)\u001b[0m\u001b[0;34m)\u001b[0m\u001b[0;34m\u001b[0m\u001b[0;34m\u001b[0m\u001b[0m\n\u001b[0m\u001b[1;32m      4\u001b[0m \u001b[0moutputDir\u001b[0m \u001b[0;34m=\u001b[0m \u001b[0mos\u001b[0m\u001b[0;34m.\u001b[0m\u001b[0mpath\u001b[0m\u001b[0;34m.\u001b[0m\u001b[0mjoin\u001b[0m\u001b[0;34m(\u001b[0m\u001b[0mcwd\u001b[0m\u001b[0;34m,\u001b[0m \u001b[0;34m'output'\u001b[0m\u001b[0;34m)\u001b[0m\u001b[0;34m\u001b[0m\u001b[0;34m\u001b[0m\u001b[0m\n\u001b[1;32m      5\u001b[0m \u001b[0;34m\u001b[0m\u001b[0m\n",
      "\u001b[0;31mNameError\u001b[0m: name '__file__' is not defined"
     ]
    }
   ],
   "source": [
    "%cd ~/AdVantage\n",
    "app = AdVantage()\n",
    "cwd = '.'\n",
    "outputDir = os.path.join(cwd, 'output')\n",
    "\n",
    "if not os.path.exists(outputDir):\n",
    "    os.makedirs(outputDir)\n",
    "   \n",
    "filename, file_extension = os.path.splitext(chosenFeature)\n",
    "filename = os.path.basename(filename)\n",
    "\n",
    "pipeline = app.pipeline_factory([\n",
    "    Verbose(), #Prints information to console\n",
    "    PipelineKiller(frames_to_process = 10), #kills process after x frames\n",
    "    #GroundControlPoints(), #hard coded for VX020001c0 frame 1\n",
    "    BackgroundFrame(scale=80), #Creates a resized frame to process on\n",
    "    StablisationDetection(bbox_size=100),\n",
    "    VideoWriter(\n",
    "        os.path.join(cwd,'output',filename+'.mp4'), #Video Path to Save to if set to true\n",
    "        output_video=True, #Output the video\n",
    "        #image_frame_output_dir=os.path.join(cwd,'output') #Outputs Image of each frame\n",
    "    ),\n",
    "    YoloProcessor(\n",
    "        os.path.join(cwd,'input/best.pt'), #weights file. must be absolute\n",
    "        conf_thres=0.8, #only save predictions over % 0 to 1,\n",
    "        skip_frames=10,\n",
    "        #imgz=(2500, 2500)\n",
    "    ), \n",
    "    ObjectTracker(ObjectDetectionTracker(offset_allowance=10), isolateObjectIds=[], sanity_lines=True),\n",
    "    MovementFilter(),\n",
    "    #VideoAttachGeoData('input/VX020001c0_geometry.xml'), #Attach geo data to frame\n",
    "    VideoPredictionVisualisation(include=['frame_objects','stablisation_points']), # Applies details to video/image frames\n",
    "])\n",
    "\n",
    "#if isZip:\n",
    "#    pipelines.append(VideoAttachGeoData(os.path.join(cwd,'input',filename+'_geometry.xml')))\n",
    "\n",
    "result = app.process_video(os.path.join(cwd,'input',filename+'.mp4'), pipeline)\n",
    "app.save_output_to_json(result, os.path.join(cwd,'output',filename+'.json'))"
   ]
  },
  {
   "cell_type": "markdown",
   "metadata": {},
   "source": [
    "# Pipeline todo\n",
    "- get video from vantage platform (or wget a pre-downloaded video for POC)\n",
    "- split into frames  or load video frame per frame using open cv\n",
    "- run yolo on each frame recording bbox of each image in yolo format\n",
    "- convert yolo format bbox to geographic format using frame metadata and projection\n",
    "    - display on map for POC\n",
    "- create binary image which is geo based\n",
    "- run particle filter or something similar using CV2 to track objects\n",
    "- use tracked objects positioning etc. to calculate speed and heading\n",
    "- display this both in a map and on the original video"
   ]
  }
 ],
 "metadata": {
  "interpreter": {
   "hash": "916dbcbb3f70747c44a77c7bcd40155683ae19c65e1c03b4aa3499c5328201f1"
  },
  "kernelspec": {
   "display_name": "Python 3 (ipykernel)",
   "language": "python",
   "name": "python3"
  },
  "language_info": {
   "codemirror_mode": {
    "name": "ipython",
    "version": 3
   },
   "file_extension": ".py",
   "mimetype": "text/x-python",
   "name": "python",
   "nbconvert_exporter": "python",
   "pygments_lexer": "ipython3",
   "version": "3.9.6"
  }
 },
 "nbformat": 4,
 "nbformat_minor": 4
}
