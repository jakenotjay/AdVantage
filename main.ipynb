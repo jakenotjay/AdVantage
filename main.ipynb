{
 "cells": [
  {
   "cell_type": "markdown",
   "metadata": {},
   "source": [
    "# AdVantage\n",
    "adVantage is a collection of tools to be able to detect moving aircraft in a video from the vantage platform. Below is a walkthrough how to perform the tracking process.\n",
    "\n",
    "https://vantage.earthi.world/explore/"
   ]
  },
  {
   "cell_type": "markdown",
   "metadata": {},
   "source": [
    "### First install requirements"
   ]
  },
  {
   "cell_type": "code",
   "execution_count": 1,
   "metadata": {},
   "outputs": [
    {
     "name": "stdout",
     "output_type": "stream",
     "text": [
      "Collecting requests==2.27.1\n",
      "  Using cached requests-2.27.1-py2.py3-none-any.whl (63 kB)\n",
      "Collecting geopy==2.2.0\n",
      "  Downloading geopy-2.2.0-py3-none-any.whl (118 kB)\n",
      "\u001b[K     |████████████████████████████████| 118 kB 12.5 MB/s eta 0:00:01\n",
      "\u001b[?25hCollecting numpy==1.19.3\n",
      "  Downloading numpy-1.19.3-cp39-cp39-macosx_10_9_x86_64.whl (15.9 MB)\n",
      "\u001b[K     |████████████████████████████████| 15.9 MB 15.2 MB/s eta 0:00:01\n",
      "\u001b[?25hRequirement already satisfied: opencv-python==4.5.5.62 in /Library/Frameworks/Python.framework/Versions/3.9/lib/python3.9/site-packages (from -r requirements.txt (line 4)) (4.5.5.62)\n",
      "Requirement already satisfied: matplotlib>=3.2.2 in /Users/jw/Library/Python/3.9/lib/python/site-packages (from -r requirements.txt (line 10)) (3.4.3)\n",
      "Requirement already satisfied: Pillow>=7.1.2 in /Users/jw/Library/Python/3.9/lib/python/site-packages (from -r requirements.txt (line 11)) (8.3.1)\n",
      "Collecting PyYAML>=5.3.1\n",
      "  Downloading PyYAML-6.0-cp39-cp39-macosx_10_9_x86_64.whl (197 kB)\n",
      "\u001b[K     |████████████████████████████████| 197 kB 36.7 MB/s eta 0:00:01\n",
      "\u001b[?25hRequirement already satisfied: scipy>=1.4.1 in /Users/jw/Library/Python/3.9/lib/python/site-packages (from -r requirements.txt (line 13)) (1.7.1)\n",
      "Collecting torch>=1.7.0\n",
      "  Downloading torch-1.10.2-cp39-none-macosx_10_9_x86_64.whl (147.2 MB)\n",
      "\u001b[K     |████████████████████████████████| 147.2 MB 183 kB/s  eta 0:00:01\n",
      "\u001b[?25hCollecting torchvision>=0.8.1\n",
      "  Downloading torchvision-0.11.3-cp39-cp39-macosx_10_9_x86_64.whl (1.2 MB)\n",
      "\u001b[K     |████████████████████████████████| 1.2 MB 69.1 MB/s eta 0:00:01\n",
      "\u001b[?25hCollecting tqdm>=4.41.0\n",
      "  Downloading tqdm-4.63.0-py2.py3-none-any.whl (76 kB)\n",
      "\u001b[K     |████████████████████████████████| 76 kB 14.1 MB/s eta 0:00:01\n",
      "\u001b[?25hRequirement already satisfied: tensorboard>=2.4.1 in /Library/Frameworks/Python.framework/Versions/3.9/lib/python3.9/site-packages (from -r requirements.txt (line 19)) (2.7.0)\n",
      "Requirement already satisfied: pandas>=1.1.4 in /Users/jw/Library/Python/3.9/lib/python/site-packages (from -r requirements.txt (line 23)) (1.3.2)\n",
      "Collecting seaborn>=0.11.0\n",
      "  Downloading seaborn-0.11.2-py3-none-any.whl (292 kB)\n",
      "\u001b[K     |████████████████████████████████| 292 kB 31.0 MB/s eta 0:00:01\n",
      "\u001b[?25hCollecting thop\n",
      "  Downloading thop-0.0.31.post2005241907-py3-none-any.whl (8.7 kB)\n",
      "Requirement already satisfied: charset-normalizer~=2.0.0 in /Library/Frameworks/Python.framework/Versions/3.9/lib/python3.9/site-packages (from requests==2.27.1->-r requirements.txt (line 1)) (2.0.4)\n",
      "Requirement already satisfied: idna<4,>=2.5 in /Library/Frameworks/Python.framework/Versions/3.9/lib/python3.9/site-packages (from requests==2.27.1->-r requirements.txt (line 1)) (3.2)\n",
      "Requirement already satisfied: certifi>=2017.4.17 in /Library/Frameworks/Python.framework/Versions/3.9/lib/python3.9/site-packages (from requests==2.27.1->-r requirements.txt (line 1)) (2021.5.30)\n",
      "Requirement already satisfied: urllib3<1.27,>=1.21.1 in /Library/Frameworks/Python.framework/Versions/3.9/lib/python3.9/site-packages (from requests==2.27.1->-r requirements.txt (line 1)) (1.26.6)\n",
      "Collecting geographiclib<2,>=1.49\n",
      "  Downloading geographiclib-1.52-py3-none-any.whl (38 kB)\n",
      "Requirement already satisfied: cycler>=0.10 in /Users/jw/Library/Python/3.9/lib/python/site-packages (from matplotlib>=3.2.2->-r requirements.txt (line 10)) (0.10.0)\n",
      "Requirement already satisfied: pyparsing>=2.2.1 in /Users/jw/Library/Python/3.9/lib/python/site-packages (from matplotlib>=3.2.2->-r requirements.txt (line 10)) (2.4.7)\n",
      "Requirement already satisfied: python-dateutil>=2.7 in /Users/jw/Library/Python/3.9/lib/python/site-packages (from matplotlib>=3.2.2->-r requirements.txt (line 10)) (2.8.2)\n",
      "Requirement already satisfied: kiwisolver>=1.0.1 in /Users/jw/Library/Python/3.9/lib/python/site-packages (from matplotlib>=3.2.2->-r requirements.txt (line 10)) (1.3.1)\n",
      "Requirement already satisfied: typing-extensions in /Library/Frameworks/Python.framework/Versions/3.9/lib/python3.9/site-packages (from torch>=1.7.0->-r requirements.txt (line 14)) (4.0.1)\n",
      "Requirement already satisfied: absl-py>=0.4 in /Library/Frameworks/Python.framework/Versions/3.9/lib/python3.9/site-packages (from tensorboard>=2.4.1->-r requirements.txt (line 19)) (1.0.0)\n",
      "Requirement already satisfied: setuptools>=41.0.0 in /Library/Frameworks/Python.framework/Versions/3.9/lib/python3.9/site-packages (from tensorboard>=2.4.1->-r requirements.txt (line 19)) (56.0.0)\n",
      "Requirement already satisfied: protobuf>=3.6.0 in /Library/Frameworks/Python.framework/Versions/3.9/lib/python3.9/site-packages (from tensorboard>=2.4.1->-r requirements.txt (line 19)) (3.17.3)\n",
      "Requirement already satisfied: google-auth<3,>=1.6.3 in /Library/Frameworks/Python.framework/Versions/3.9/lib/python3.9/site-packages (from tensorboard>=2.4.1->-r requirements.txt (line 19)) (1.35.0)\n",
      "Requirement already satisfied: grpcio>=1.24.3 in /Library/Frameworks/Python.framework/Versions/3.9/lib/python3.9/site-packages (from tensorboard>=2.4.1->-r requirements.txt (line 19)) (1.43.0)\n",
      "Requirement already satisfied: wheel>=0.26 in /Library/Frameworks/Python.framework/Versions/3.9/lib/python3.9/site-packages (from tensorboard>=2.4.1->-r requirements.txt (line 19)) (0.37.1)\n",
      "Requirement already satisfied: google-auth-oauthlib<0.5,>=0.4.1 in /Library/Frameworks/Python.framework/Versions/3.9/lib/python3.9/site-packages (from tensorboard>=2.4.1->-r requirements.txt (line 19)) (0.4.6)\n",
      "Requirement already satisfied: tensorboard-data-server<0.7.0,>=0.6.0 in /Library/Frameworks/Python.framework/Versions/3.9/lib/python3.9/site-packages (from tensorboard>=2.4.1->-r requirements.txt (line 19)) (0.6.1)\n",
      "Requirement already satisfied: werkzeug>=0.11.15 in /Library/Frameworks/Python.framework/Versions/3.9/lib/python3.9/site-packages (from tensorboard>=2.4.1->-r requirements.txt (line 19)) (2.0.2)\n",
      "Requirement already satisfied: tensorboard-plugin-wit>=1.6.0 in /Library/Frameworks/Python.framework/Versions/3.9/lib/python3.9/site-packages (from tensorboard>=2.4.1->-r requirements.txt (line 19)) (1.8.0)\n",
      "Requirement already satisfied: markdown>=2.6.8 in /Library/Frameworks/Python.framework/Versions/3.9/lib/python3.9/site-packages (from tensorboard>=2.4.1->-r requirements.txt (line 19)) (3.3.6)\n",
      "Requirement already satisfied: pytz>=2017.3 in /Users/jw/Library/Python/3.9/lib/python/site-packages (from pandas>=1.1.4->-r requirements.txt (line 23)) (2021.1)\n",
      "Requirement already satisfied: six in /Users/jw/Library/Python/3.9/lib/python/site-packages (from absl-py>=0.4->tensorboard>=2.4.1->-r requirements.txt (line 19)) (1.16.0)\n",
      "Requirement already satisfied: rsa<5,>=3.1.4 in /Library/Frameworks/Python.framework/Versions/3.9/lib/python3.9/site-packages (from google-auth<3,>=1.6.3->tensorboard>=2.4.1->-r requirements.txt (line 19)) (4.7.2)\n",
      "Requirement already satisfied: pyasn1-modules>=0.2.1 in /Library/Frameworks/Python.framework/Versions/3.9/lib/python3.9/site-packages (from google-auth<3,>=1.6.3->tensorboard>=2.4.1->-r requirements.txt (line 19)) (0.2.8)\n",
      "Requirement already satisfied: cachetools<5.0,>=2.0.0 in /Library/Frameworks/Python.framework/Versions/3.9/lib/python3.9/site-packages (from google-auth<3,>=1.6.3->tensorboard>=2.4.1->-r requirements.txt (line 19)) (4.2.2)\n",
      "Requirement already satisfied: requests-oauthlib>=0.7.0 in /Library/Frameworks/Python.framework/Versions/3.9/lib/python3.9/site-packages (from google-auth-oauthlib<0.5,>=0.4.1->tensorboard>=2.4.1->-r requirements.txt (line 19)) (1.3.0)\n",
      "Requirement already satisfied: importlib-metadata>=4.4 in /Library/Frameworks/Python.framework/Versions/3.9/lib/python3.9/site-packages (from markdown>=2.6.8->tensorboard>=2.4.1->-r requirements.txt (line 19)) (4.10.0)\n",
      "Requirement already satisfied: zipp>=0.5 in /Library/Frameworks/Python.framework/Versions/3.9/lib/python3.9/site-packages (from importlib-metadata>=4.4->markdown>=2.6.8->tensorboard>=2.4.1->-r requirements.txt (line 19)) (3.6.0)\n",
      "Requirement already satisfied: pyasn1<0.5.0,>=0.4.6 in /Library/Frameworks/Python.framework/Versions/3.9/lib/python3.9/site-packages (from pyasn1-modules>=0.2.1->google-auth<3,>=1.6.3->tensorboard>=2.4.1->-r requirements.txt (line 19)) (0.4.8)\n",
      "Requirement already satisfied: oauthlib>=3.0.0 in /Library/Frameworks/Python.framework/Versions/3.9/lib/python3.9/site-packages (from requests-oauthlib>=0.7.0->google-auth-oauthlib<0.5,>=0.4.1->tensorboard>=2.4.1->-r requirements.txt (line 19)) (3.1.1)\n",
      "Installing collected packages: requests, numpy, torch, geographiclib, tqdm, torchvision, thop, seaborn, PyYAML, geopy\n",
      "  Attempting uninstall: requests\n",
      "    Found existing installation: requests 2.26.0\n",
      "    Uninstalling requests-2.26.0:\n",
      "      Successfully uninstalled requests-2.26.0\n",
      "  Attempting uninstall: numpy\n",
      "    Found existing installation: numpy 1.21.2\n",
      "    Uninstalling numpy-1.21.2:\n",
      "      Successfully uninstalled numpy-1.21.2\n",
      "Successfully installed PyYAML-6.0 geographiclib-1.52 geopy-2.2.0 numpy-1.19.3 requests-2.27.1 seaborn-0.11.2 thop-0.0.31.post2005241907 torch-1.10.2 torchvision-0.11.3 tqdm-4.63.0\n",
      "\u001b[33mWARNING: You are using pip version 21.1.3; however, version 22.0.3 is available.\n",
      "You should consider upgrading via the '/Library/Frameworks/Python.framework/Versions/3.9/bin/python3 -m pip install --upgrade pip' command.\u001b[0m\n"
     ]
    }
   ],
   "source": [
    "!python3 -m pip install -r requirements.txt"
   ]
  },
  {
   "cell_type": "markdown",
   "metadata": {},
   "source": [
    "### Download yolov5 repository\n",
    "\n",
    "Yolov5 repository needs to be installed before the AdVantage example will work. You will need to clone the repository into the current working directory."
   ]
  },
  {
   "cell_type": "code",
   "execution_count": 20,
   "metadata": {},
   "outputs": [
    {
     "name": "stdout",
     "output_type": "stream",
     "text": [
      "Cloning into 'yolov5'...\n",
      "remote: Enumerating objects: 11162, done.\u001b[K\n",
      "remote: Total 11162 (delta 0), reused 0 (delta 0), pack-reused 11162\u001b[K\n",
      "Receiving objects: 100% (11162/11162), 11.15 MiB | 11.21 MiB/s, done.\n",
      "Resolving deltas: 100% (7716/7716), done.\n"
     ]
    }
   ],
   "source": [
    "!git clone https://github.com/ultralytics/yolov5.git"
   ]
  },
  {
   "cell_type": "code",
   "execution_count": 24,
   "metadata": {},
   "outputs": [
    {
     "name": "stdout",
     "output_type": "stream",
     "text": [
      "/Users/jw/Projects/hackathon/AdVantage/yolov5\n",
      "[Errno 2] No such file or directory: 'input'\n",
      "/Users/jw/Projects/hackathon/AdVantage/yolov5\n"
     ]
    }
   ],
   "source": [
    "%cd yolov5\n",
    "%cd input"
   ]
  },
  {
   "cell_type": "markdown",
   "metadata": {},
   "source": [
    "### Setup yolov5 and download weights"
   ]
  },
  {
   "cell_type": "code",
   "execution_count": 21,
   "metadata": {},
   "outputs": [
    {
     "name": "stdout",
     "output_type": "stream",
     "text": [
      "/Users/jw/Projects/hackathon/AdVantage/yolov5\n",
      "Requirement already satisfied: matplotlib>=3.2.2 in /Users/jw/Library/Python/3.9/lib/python/site-packages (from -r requirements.txt (line 4)) (3.4.3)\n",
      "Requirement already satisfied: numpy>=1.18.5 in /Library/Frameworks/Python.framework/Versions/3.9/lib/python3.9/site-packages (from -r requirements.txt (line 5)) (1.19.3)\n",
      "Requirement already satisfied: opencv-python>=4.1.2 in /Library/Frameworks/Python.framework/Versions/3.9/lib/python3.9/site-packages (from -r requirements.txt (line 6)) (4.5.5.62)\n",
      "Requirement already satisfied: Pillow>=7.1.2 in /Users/jw/Library/Python/3.9/lib/python/site-packages (from -r requirements.txt (line 7)) (8.3.1)\n",
      "Requirement already satisfied: PyYAML>=5.3.1 in /Library/Frameworks/Python.framework/Versions/3.9/lib/python3.9/site-packages (from -r requirements.txt (line 8)) (6.0)\n",
      "Requirement already satisfied: requests>=2.23.0 in /Library/Frameworks/Python.framework/Versions/3.9/lib/python3.9/site-packages (from -r requirements.txt (line 9)) (2.27.1)\n",
      "Requirement already satisfied: scipy>=1.4.1 in /Users/jw/Library/Python/3.9/lib/python/site-packages (from -r requirements.txt (line 10)) (1.7.1)\n",
      "Requirement already satisfied: torch>=1.7.0 in /Library/Frameworks/Python.framework/Versions/3.9/lib/python3.9/site-packages (from -r requirements.txt (line 11)) (1.10.2)\n",
      "Requirement already satisfied: torchvision>=0.8.1 in /Library/Frameworks/Python.framework/Versions/3.9/lib/python3.9/site-packages (from -r requirements.txt (line 12)) (0.11.3)\n",
      "Requirement already satisfied: tqdm>=4.41.0 in /Library/Frameworks/Python.framework/Versions/3.9/lib/python3.9/site-packages (from -r requirements.txt (line 13)) (4.63.0)\n",
      "Requirement already satisfied: tensorboard>=2.4.1 in /Library/Frameworks/Python.framework/Versions/3.9/lib/python3.9/site-packages (from -r requirements.txt (line 16)) (2.7.0)\n",
      "Requirement already satisfied: pandas>=1.1.4 in /Users/jw/Library/Python/3.9/lib/python/site-packages (from -r requirements.txt (line 20)) (1.3.2)\n",
      "Requirement already satisfied: seaborn>=0.11.0 in /Library/Frameworks/Python.framework/Versions/3.9/lib/python3.9/site-packages (from -r requirements.txt (line 21)) (0.11.2)\n",
      "Requirement already satisfied: thop in /Library/Frameworks/Python.framework/Versions/3.9/lib/python3.9/site-packages (from -r requirements.txt (line 37)) (0.0.31.post2005241907)\n",
      "Requirement already satisfied: cycler>=0.10 in /Users/jw/Library/Python/3.9/lib/python/site-packages (from matplotlib>=3.2.2->-r requirements.txt (line 4)) (0.10.0)\n",
      "Requirement already satisfied: kiwisolver>=1.0.1 in /Users/jw/Library/Python/3.9/lib/python/site-packages (from matplotlib>=3.2.2->-r requirements.txt (line 4)) (1.3.1)\n",
      "Requirement already satisfied: python-dateutil>=2.7 in /Users/jw/Library/Python/3.9/lib/python/site-packages (from matplotlib>=3.2.2->-r requirements.txt (line 4)) (2.8.2)\n",
      "Requirement already satisfied: pyparsing>=2.2.1 in /Users/jw/Library/Python/3.9/lib/python/site-packages (from matplotlib>=3.2.2->-r requirements.txt (line 4)) (2.4.7)\n",
      "Requirement already satisfied: charset-normalizer~=2.0.0 in /Library/Frameworks/Python.framework/Versions/3.9/lib/python3.9/site-packages (from requests>=2.23.0->-r requirements.txt (line 9)) (2.0.4)\n",
      "Requirement already satisfied: urllib3<1.27,>=1.21.1 in /Library/Frameworks/Python.framework/Versions/3.9/lib/python3.9/site-packages (from requests>=2.23.0->-r requirements.txt (line 9)) (1.26.6)\n",
      "Requirement already satisfied: certifi>=2017.4.17 in /Library/Frameworks/Python.framework/Versions/3.9/lib/python3.9/site-packages (from requests>=2.23.0->-r requirements.txt (line 9)) (2021.5.30)\n",
      "Requirement already satisfied: idna<4,>=2.5 in /Library/Frameworks/Python.framework/Versions/3.9/lib/python3.9/site-packages (from requests>=2.23.0->-r requirements.txt (line 9)) (3.2)\n",
      "Requirement already satisfied: typing-extensions in /Library/Frameworks/Python.framework/Versions/3.9/lib/python3.9/site-packages (from torch>=1.7.0->-r requirements.txt (line 11)) (4.0.1)\n",
      "Requirement already satisfied: markdown>=2.6.8 in /Library/Frameworks/Python.framework/Versions/3.9/lib/python3.9/site-packages (from tensorboard>=2.4.1->-r requirements.txt (line 16)) (3.3.6)\n",
      "Requirement already satisfied: tensorboard-data-server<0.7.0,>=0.6.0 in /Library/Frameworks/Python.framework/Versions/3.9/lib/python3.9/site-packages (from tensorboard>=2.4.1->-r requirements.txt (line 16)) (0.6.1)\n",
      "Requirement already satisfied: werkzeug>=0.11.15 in /Library/Frameworks/Python.framework/Versions/3.9/lib/python3.9/site-packages (from tensorboard>=2.4.1->-r requirements.txt (line 16)) (2.0.2)\n",
      "Requirement already satisfied: google-auth<3,>=1.6.3 in /Library/Frameworks/Python.framework/Versions/3.9/lib/python3.9/site-packages (from tensorboard>=2.4.1->-r requirements.txt (line 16)) (1.35.0)\n",
      "Requirement already satisfied: tensorboard-plugin-wit>=1.6.0 in /Library/Frameworks/Python.framework/Versions/3.9/lib/python3.9/site-packages (from tensorboard>=2.4.1->-r requirements.txt (line 16)) (1.8.0)\n",
      "Requirement already satisfied: google-auth-oauthlib<0.5,>=0.4.1 in /Library/Frameworks/Python.framework/Versions/3.9/lib/python3.9/site-packages (from tensorboard>=2.4.1->-r requirements.txt (line 16)) (0.4.6)\n",
      "Requirement already satisfied: setuptools>=41.0.0 in /Library/Frameworks/Python.framework/Versions/3.9/lib/python3.9/site-packages (from tensorboard>=2.4.1->-r requirements.txt (line 16)) (56.0.0)\n",
      "Requirement already satisfied: absl-py>=0.4 in /Library/Frameworks/Python.framework/Versions/3.9/lib/python3.9/site-packages (from tensorboard>=2.4.1->-r requirements.txt (line 16)) (1.0.0)\n",
      "Requirement already satisfied: wheel>=0.26 in /Library/Frameworks/Python.framework/Versions/3.9/lib/python3.9/site-packages (from tensorboard>=2.4.1->-r requirements.txt (line 16)) (0.37.1)\n",
      "Requirement already satisfied: protobuf>=3.6.0 in /Library/Frameworks/Python.framework/Versions/3.9/lib/python3.9/site-packages (from tensorboard>=2.4.1->-r requirements.txt (line 16)) (3.17.3)\n",
      "Requirement already satisfied: grpcio>=1.24.3 in /Library/Frameworks/Python.framework/Versions/3.9/lib/python3.9/site-packages (from tensorboard>=2.4.1->-r requirements.txt (line 16)) (1.43.0)\n",
      "Requirement already satisfied: pytz>=2017.3 in /Users/jw/Library/Python/3.9/lib/python/site-packages (from pandas>=1.1.4->-r requirements.txt (line 20)) (2021.1)\n",
      "Requirement already satisfied: six in /Users/jw/Library/Python/3.9/lib/python/site-packages (from absl-py>=0.4->tensorboard>=2.4.1->-r requirements.txt (line 16)) (1.16.0)\n",
      "Requirement already satisfied: rsa<5,>=3.1.4 in /Library/Frameworks/Python.framework/Versions/3.9/lib/python3.9/site-packages (from google-auth<3,>=1.6.3->tensorboard>=2.4.1->-r requirements.txt (line 16)) (4.7.2)\n",
      "Requirement already satisfied: cachetools<5.0,>=2.0.0 in /Library/Frameworks/Python.framework/Versions/3.9/lib/python3.9/site-packages (from google-auth<3,>=1.6.3->tensorboard>=2.4.1->-r requirements.txt (line 16)) (4.2.2)\n",
      "Requirement already satisfied: pyasn1-modules>=0.2.1 in /Library/Frameworks/Python.framework/Versions/3.9/lib/python3.9/site-packages (from google-auth<3,>=1.6.3->tensorboard>=2.4.1->-r requirements.txt (line 16)) (0.2.8)\n",
      "Requirement already satisfied: requests-oauthlib>=0.7.0 in /Library/Frameworks/Python.framework/Versions/3.9/lib/python3.9/site-packages (from google-auth-oauthlib<0.5,>=0.4.1->tensorboard>=2.4.1->-r requirements.txt (line 16)) (1.3.0)\n",
      "Requirement already satisfied: importlib-metadata>=4.4 in /Library/Frameworks/Python.framework/Versions/3.9/lib/python3.9/site-packages (from markdown>=2.6.8->tensorboard>=2.4.1->-r requirements.txt (line 16)) (4.10.0)\n",
      "Requirement already satisfied: zipp>=0.5 in /Library/Frameworks/Python.framework/Versions/3.9/lib/python3.9/site-packages (from importlib-metadata>=4.4->markdown>=2.6.8->tensorboard>=2.4.1->-r requirements.txt (line 16)) (3.6.0)\n",
      "Requirement already satisfied: pyasn1<0.5.0,>=0.4.6 in /Library/Frameworks/Python.framework/Versions/3.9/lib/python3.9/site-packages (from pyasn1-modules>=0.2.1->google-auth<3,>=1.6.3->tensorboard>=2.4.1->-r requirements.txt (line 16)) (0.4.8)\n",
      "Requirement already satisfied: oauthlib>=3.0.0 in /Library/Frameworks/Python.framework/Versions/3.9/lib/python3.9/site-packages (from requests-oauthlib>=0.7.0->google-auth-oauthlib<0.5,>=0.4.1->tensorboard>=2.4.1->-r requirements.txt (line 16)) (3.1.1)\n",
      "\u001b[33mWARNING: You are using pip version 21.1.3; however, version 22.0.3 is available.\n",
      "You should consider upgrading via the '/Library/Frameworks/Python.framework/Versions/3.9/bin/python3 -m pip install --upgrade pip' command.\u001b[0m\n",
      "[Errno 2] No such file or directory: 'input'\n",
      "/Users/jw/Projects/hackathon/AdVantage/yolov5\n",
      "The destination name is too long (826), reducing to 236\n",
      "--2022-03-05 11:35:14--  https://doc-0g-8o-docs.googleusercontent.com/docs/securesc/qkaugo6314u8fv5lmscc33kqv5o3bopg/esvgvhjj10btnsk4g68shecqqoktphlh/1646479875000/07750003106284155945/16543569848639810509/1d0yM-NOQU8UAsfwmHIA08O_0q0zrIZLt?e=download&ax=ACxEAsYkJsl0iaJ-_j2SpzTlnNaraQ1SR8vugOQw9Z_28iMomB8qwbHjWc8MYEQVFgWRV-dkB7bqzpvCF2PZlFUwAoqIpdoaBhuxq8SuVV1XYVOJWRhmeY3obuLdMMw1v-TF1YJrdQobETTPbhccdOcF3MRw1bIfoTVkvi1HyMfFkK40miijIeszK9jmBdheS42jVIdow5AkKew-AappaIjoVyi4UFG9Qx9ooNiOCjzVvZzIEIWnH-kHhaC5gqBT7FKNdYrruMa5lJG8fjqqrhoCv_8ybjgoWqpZLLu3V1TxxEpX4JhdGs9Hn6Tond3gwuHFGBZjdrB72i_nbpDRcISzm3AKVxZoG9lKFuVufZMk_XhRPo_AijG-ZsuxoJV2swZbvqKrge0bQjf9swLq-WG4osA_hF-IJGyDlfgvEfnP8ivlbDnA7URrr9z8UiKEvhgF12OtxOARlR-pEStuz8xH97Y0qmY4L43O0VEyNvENnj64azs1t3wmxIaoA-S7D1aKWniFlqBu_7LlJ30MQ0rCoaES3Xys02bhn_rZKkRRrBzz2LMmijHkCtF2mtSIseihuTuk44JIKBD4KSPLmIZQ6Dplr9jlpOh5NJLofzKpBJeeDHQOwxEboXy1LkjUjd5YR3gjgBq9zFbOfyskjtEQMLafBTlJPMTPdGJHlXk&authuser=1&nonce=mcq8019j2dkbm&user=16543569848639810509&hash=832393uruv0rtilcoehviq5c8tm135k5\n",
      "Resolving doc-0g-8o-docs.googleusercontent.com (doc-0g-8o-docs.googleusercontent.com)... 142.250.180.1, 172.217.16.225\n",
      "Connecting to doc-0g-8o-docs.googleusercontent.com (doc-0g-8o-docs.googleusercontent.com)|142.250.180.1|:443... connected.\n",
      "HTTP request sent, awaiting response... 302 Found\n",
      "Location: https://docs.google.com/u/1/nonceSigner?nonce=jb0simm1t7s0m&continue=https://doc-0g-8o-docs.googleusercontent.com/docs/securesc/qkaugo6314u8fv5lmscc33kqv5o3bopg/esvgvhjj10btnsk4g68shecqqoktphlh/1646479875000/07750003106284155945/16543569848639810509/1d0yM-NOQU8UAsfwmHIA08O_0q0zrIZLt?e%3Ddownload%26ax%3DACxEAsYkJsl0iaJ-_j2SpzTlnNaraQ1SR8vugOQw9Z_28iMomB8qwbHjWc8MYEQVFgWRV-dkB7bqzpvCF2PZlFUwAoqIpdoaBhuxq8SuVV1XYVOJWRhmeY3obuLdMMw1v-TF1YJrdQobETTPbhccdOcF3MRw1bIfoTVkvi1HyMfFkK40miijIeszK9jmBdheS42jVIdow5AkKew-AappaIjoVyi4UFG9Qx9ooNiOCjzVvZzIEIWnH-kHhaC5gqBT7FKNdYrruMa5lJG8fjqqrhoCv_8ybjgoWqpZLLu3V1TxxEpX4JhdGs9Hn6Tond3gwuHFGBZjdrB72i_nbpDRcISzm3AKVxZoG9lKFuVufZMk_XhRPo_AijG-ZsuxoJV2swZbvqKrge0bQjf9swLq-WG4osA_hF-IJGyDlfgvEfnP8ivlbDnA7URrr9z8UiKEvhgF12OtxOARlR-pEStuz8xH97Y0qmY4L43O0VEyNvENnj64azs1t3wmxIaoA-S7D1aKWniFlqBu_7LlJ30MQ0rCoaES3Xys02bhn_rZKkRRrBzz2LMmijHkCtF2mtSIseihuTuk44JIKBD4KSPLmIZQ6Dplr9jlpOh5NJLofzKpBJeeDHQOwxEboXy1LkjUjd5YR3gjgBq9zFbOfyskjtEQMLafBTlJPMTPdGJHlXk%26nonce%3Dmcq8019j2dkbm%26user%3D16543569848639810509%26authuser%3D1%26hash%3D832393uruv0rtilcoehviq5c8tm135k5&hash=243bpebvtnej6t3buk9rqvl4at32d9gl [following]\n",
      "The destination name is too long (826), reducing to 236\n",
      "--2022-03-05 11:35:14--  https://docs.google.com/u/1/nonceSigner?nonce=jb0simm1t7s0m&continue=https://doc-0g-8o-docs.googleusercontent.com/docs/securesc/qkaugo6314u8fv5lmscc33kqv5o3bopg/esvgvhjj10btnsk4g68shecqqoktphlh/1646479875000/07750003106284155945/16543569848639810509/1d0yM-NOQU8UAsfwmHIA08O_0q0zrIZLt?e%3Ddownload%26ax%3DACxEAsYkJsl0iaJ-_j2SpzTlnNaraQ1SR8vugOQw9Z_28iMomB8qwbHjWc8MYEQVFgWRV-dkB7bqzpvCF2PZlFUwAoqIpdoaBhuxq8SuVV1XYVOJWRhmeY3obuLdMMw1v-TF1YJrdQobETTPbhccdOcF3MRw1bIfoTVkvi1HyMfFkK40miijIeszK9jmBdheS42jVIdow5AkKew-AappaIjoVyi4UFG9Qx9ooNiOCjzVvZzIEIWnH-kHhaC5gqBT7FKNdYrruMa5lJG8fjqqrhoCv_8ybjgoWqpZLLu3V1TxxEpX4JhdGs9Hn6Tond3gwuHFGBZjdrB72i_nbpDRcISzm3AKVxZoG9lKFuVufZMk_XhRPo_AijG-ZsuxoJV2swZbvqKrge0bQjf9swLq-WG4osA_hF-IJGyDlfgvEfnP8ivlbDnA7URrr9z8UiKEvhgF12OtxOARlR-pEStuz8xH97Y0qmY4L43O0VEyNvENnj64azs1t3wmxIaoA-S7D1aKWniFlqBu_7LlJ30MQ0rCoaES3Xys02bhn_rZKkRRrBzz2LMmijHkCtF2mtSIseihuTuk44JIKBD4KSPLmIZQ6Dplr9jlpOh5NJLofzKpBJeeDHQOwxEboXy1LkjUjd5YR3gjgBq9zFbOfyskjtEQMLafBTlJPMTPdGJHlXk%26nonce%3Dmcq8019j2dkbm%26user%3D16543569848639810509%26authuser%3D1%26hash%3D832393uruv0rtilcoehviq5c8tm135k5&hash=243bpebvtnej6t3buk9rqvl4at32d9gl\n",
      "Resolving docs.google.com (docs.google.com)... 142.250.179.238\n",
      "Connecting to docs.google.com (docs.google.com)|142.250.179.238|:443... connected.\n",
      "HTTP request sent, awaiting response... 302 Found\n",
      "Location: https://docs.google.com/nonceSigner?nonce=jb0simm1t7s0m&continue=https://doc-0g-8o-docs.googleusercontent.com/docs/securesc/qkaugo6314u8fv5lmscc33kqv5o3bopg/esvgvhjj10btnsk4g68shecqqoktphlh/1646479875000/07750003106284155945/16543569848639810509/1d0yM-NOQU8UAsfwmHIA08O_0q0zrIZLt?e%3Ddownload%26ax%3DACxEAsYkJsl0iaJ-_j2SpzTlnNaraQ1SR8vugOQw9Z_28iMomB8qwbHjWc8MYEQVFgWRV-dkB7bqzpvCF2PZlFUwAoqIpdoaBhuxq8SuVV1XYVOJWRhmeY3obuLdMMw1v-TF1YJrdQobETTPbhccdOcF3MRw1bIfoTVkvi1HyMfFkK40miijIeszK9jmBdheS42jVIdow5AkKew-AappaIjoVyi4UFG9Qx9ooNiOCjzVvZzIEIWnH-kHhaC5gqBT7FKNdYrruMa5lJG8fjqqrhoCv_8ybjgoWqpZLLu3V1TxxEpX4JhdGs9Hn6Tond3gwuHFGBZjdrB72i_nbpDRcISzm3AKVxZoG9lKFuVufZMk_XhRPo_AijG-ZsuxoJV2swZbvqKrge0bQjf9swLq-WG4osA_hF-IJGyDlfgvEfnP8ivlbDnA7URrr9z8UiKEvhgF12OtxOARlR-pEStuz8xH97Y0qmY4L43O0VEyNvENnj64azs1t3wmxIaoA-S7D1aKWniFlqBu_7LlJ30MQ0rCoaES3Xys02bhn_rZKkRRrBzz2LMmijHkCtF2mtSIseihuTuk44JIKBD4KSPLmIZQ6Dplr9jlpOh5NJLofzKpBJeeDHQOwxEboXy1LkjUjd5YR3gjgBq9zFbOfyskjtEQMLafBTlJPMTPdGJHlXk%26nonce%3Dmcq8019j2dkbm%26user%3D16543569848639810509%26authuser%3D1%26hash%3D832393uruv0rtilcoehviq5c8tm135k5&hash=243bpebvtnej6t3buk9rqvl4at32d9gl [following]\n",
      "The destination name is too long (826), reducing to 236\n",
      "--2022-03-05 11:35:14--  https://docs.google.com/nonceSigner?nonce=jb0simm1t7s0m&continue=https://doc-0g-8o-docs.googleusercontent.com/docs/securesc/qkaugo6314u8fv5lmscc33kqv5o3bopg/esvgvhjj10btnsk4g68shecqqoktphlh/1646479875000/07750003106284155945/16543569848639810509/1d0yM-NOQU8UAsfwmHIA08O_0q0zrIZLt?e%3Ddownload%26ax%3DACxEAsYkJsl0iaJ-_j2SpzTlnNaraQ1SR8vugOQw9Z_28iMomB8qwbHjWc8MYEQVFgWRV-dkB7bqzpvCF2PZlFUwAoqIpdoaBhuxq8SuVV1XYVOJWRhmeY3obuLdMMw1v-TF1YJrdQobETTPbhccdOcF3MRw1bIfoTVkvi1HyMfFkK40miijIeszK9jmBdheS42jVIdow5AkKew-AappaIjoVyi4UFG9Qx9ooNiOCjzVvZzIEIWnH-kHhaC5gqBT7FKNdYrruMa5lJG8fjqqrhoCv_8ybjgoWqpZLLu3V1TxxEpX4JhdGs9Hn6Tond3gwuHFGBZjdrB72i_nbpDRcISzm3AKVxZoG9lKFuVufZMk_XhRPo_AijG-ZsuxoJV2swZbvqKrge0bQjf9swLq-WG4osA_hF-IJGyDlfgvEfnP8ivlbDnA7URrr9z8UiKEvhgF12OtxOARlR-pEStuz8xH97Y0qmY4L43O0VEyNvENnj64azs1t3wmxIaoA-S7D1aKWniFlqBu_7LlJ30MQ0rCoaES3Xys02bhn_rZKkRRrBzz2LMmijHkCtF2mtSIseihuTuk44JIKBD4KSPLmIZQ6Dplr9jlpOh5NJLofzKpBJeeDHQOwxEboXy1LkjUjd5YR3gjgBq9zFbOfyskjtEQMLafBTlJPMTPdGJHlXk%26nonce%3Dmcq8019j2dkbm%26user%3D16543569848639810509%26authuser%3D1%26hash%3D832393uruv0rtilcoehviq5c8tm135k5&hash=243bpebvtnej6t3buk9rqvl4at32d9gl\n",
      "Reusing existing connection to docs.google.com:443.\n",
      "HTTP request sent, awaiting response... 302 Found\n",
      "Location: https://accounts.google.com/ServiceLogin?service=wise&passive=1209600&continue=https://docs.google.com/nonceSigner?nonce%3Djb0simm1t7s0m%26continue%3Dhttps://doc-0g-8o-docs.googleusercontent.com/docs/securesc/qkaugo6314u8fv5lmscc33kqv5o3bopg/esvgvhjj10btnsk4g68shecqqoktphlh/1646479875000/07750003106284155945/16543569848639810509/1d0yM-NOQU8UAsfwmHIA08O_0q0zrIZLt?e%253Ddownload%2526ax%253DACxEAsYkJsl0iaJ-_j2SpzTlnNaraQ1SR8vugOQw9Z_28iMomB8qwbHjWc8MYEQVFgWRV-dkB7bqzpvCF2PZlFUwAoqIpdoaBhuxq8SuVV1XYVOJWRhmeY3obuLdMMw1v-TF1YJrdQobETTPbhccdOcF3MRw1bIfoTVkvi1HyMfFkK40miijIeszK9jmBdheS42jVIdow5AkKew-AappaIjoVyi4UFG9Qx9ooNiOCjzVvZzIEIWnH-kHhaC5gqBT7FKNdYrruMa5lJG8fjqqrhoCv_8ybjgoWqpZLLu3V1TxxEpX4JhdGs9Hn6Tond3gwuHFGBZjdrB72i_nbpDRcISzm3AKVxZoG9lKFuVufZMk_XhRPo_AijG-ZsuxoJV2swZbvqKrge0bQjf9swLq-WG4osA_hF-IJGyDlfgvEfnP8ivlbDnA7URrr9z8UiKEvhgF12OtxOARlR-pEStuz8xH97Y0qmY4L43O0VEyNvENnj64azs1t3wmxIaoA-S7D1aKWniFlqBu_7LlJ30MQ0rCoaES3Xys02bhn_rZKkRRrBzz2LMmijHkCtF2mtSIseihuTuk44JIKBD4KSPLmIZQ6Dplr9jlpOh5NJLofzKpBJeeDHQOwxEboXy1LkjUjd5YR3gjgBq9zFbOfyskjtEQMLafBTlJPMTPdGJHlXk%2526nonce%253Dmcq8019j2dkbm%2526user%253D16543569848639810509%2526authuser%253D1%2526hash%253D832393uruv0rtilcoehviq5c8tm135k5%26hash%3D243bpebvtnej6t3buk9rqvl4at32d9gl&followup=https://docs.google.com/nonceSigner?nonce%3Djb0simm1t7s0m%26continue%3Dhttps://doc-0g-8o-docs.googleusercontent.com/docs/securesc/qkaugo6314u8fv5lmscc33kqv5o3bopg/esvgvhjj10btnsk4g68shecqqoktphlh/1646479875000/07750003106284155945/16543569848639810509/1d0yM-NOQU8UAsfwmHIA08O_0q0zrIZLt?e%253Ddownload%2526ax%253DACxEAsYkJsl0iaJ-_j2SpzTlnNaraQ1SR8vugOQw9Z_28iMomB8qwbHjWc8MYEQVFgWRV-dkB7bqzpvCF2PZlFUwAoqIpdoaBhuxq8SuVV1XYVOJWRhmeY3obuLdMMw1v-TF1YJrdQobETTPbhccdOcF3MRw1bIfoTVkvi1HyMfFkK40miijIeszK9jmBdheS42jVIdow5AkKew-AappaIjoVyi4UFG9Qx9ooNiOCjzVvZzIEIWnH-kHhaC5gqBT7FKNdYrruMa5lJG8fjqqrhoCv_8ybjgoWqpZLLu3V1TxxEpX4JhdGs9Hn6Tond3gwuHFGBZjdrB72i_nbpDRcISzm3AKVxZoG9lKFuVufZMk_XhRPo_AijG-ZsuxoJV2swZbvqKrge0bQjf9swLq-WG4osA_hF-IJGyDlfgvEfnP8ivlbDnA7URrr9z8UiKEvhgF12OtxOARlR-pEStuz8xH97Y0qmY4L43O0VEyNvENnj64azs1t3wmxIaoA-S7D1aKWniFlqBu_7LlJ30MQ0rCoaES3Xys02bhn_rZKkRRrBzz2LMmijHkCtF2mtSIseihuTuk44JIKBD4KSPLmIZQ6Dplr9jlpOh5NJLofzKpBJeeDHQOwxEboXy1LkjUjd5YR3gjgBq9zFbOfyskjtEQMLafBTlJPMTPdGJHlXk%2526nonce%253Dmcq8019j2dkbm%2526user%253D16543569848639810509%2526authuser%253D1%2526hash%253D832393uruv0rtilcoehviq5c8tm135k5%26hash%3D243bpebvtnej6t3buk9rqvl4at32d9gl [following]\n",
      "The destination name is too long (826), reducing to 236\n",
      "--2022-03-05 11:35:14--  https://accounts.google.com/ServiceLogin?service=wise&passive=1209600&continue=https://docs.google.com/nonceSigner?nonce%3Djb0simm1t7s0m%26continue%3Dhttps://doc-0g-8o-docs.googleusercontent.com/docs/securesc/qkaugo6314u8fv5lmscc33kqv5o3bopg/esvgvhjj10btnsk4g68shecqqoktphlh/1646479875000/07750003106284155945/16543569848639810509/1d0yM-NOQU8UAsfwmHIA08O_0q0zrIZLt?e%253Ddownload%2526ax%253DACxEAsYkJsl0iaJ-_j2SpzTlnNaraQ1SR8vugOQw9Z_28iMomB8qwbHjWc8MYEQVFgWRV-dkB7bqzpvCF2PZlFUwAoqIpdoaBhuxq8SuVV1XYVOJWRhmeY3obuLdMMw1v-TF1YJrdQobETTPbhccdOcF3MRw1bIfoTVkvi1HyMfFkK40miijIeszK9jmBdheS42jVIdow5AkKew-AappaIjoVyi4UFG9Qx9ooNiOCjzVvZzIEIWnH-kHhaC5gqBT7FKNdYrruMa5lJG8fjqqrhoCv_8ybjgoWqpZLLu3V1TxxEpX4JhdGs9Hn6Tond3gwuHFGBZjdrB72i_nbpDRcISzm3AKVxZoG9lKFuVufZMk_XhRPo_AijG-ZsuxoJV2swZbvqKrge0bQjf9swLq-WG4osA_hF-IJGyDlfgvEfnP8ivlbDnA7URrr9z8UiKEvhgF12OtxOARlR-pEStuz8xH97Y0qmY4L43O0VEyNvENnj64azs1t3wmxIaoA-S7D1aKWniFlqBu_7LlJ30MQ0rCoaES3Xys02bhn_rZKkRRrBzz2LMmijHkCtF2mtSIseihuTuk44JIKBD4KSPLmIZQ6Dplr9jlpOh5NJLofzKpBJeeDHQOwxEboXy1LkjUjd5YR3gjgBq9zFbOfyskjtEQMLafBTlJPMTPdGJHlXk%2526nonce%253Dmcq8019j2dkbm%2526user%253D16543569848639810509%2526authuser%253D1%2526hash%253D832393uruv0rtilcoehviq5c8tm135k5%26hash%3D243bpebvtnej6t3buk9rqvl4at32d9gl&followup=https://docs.google.com/nonceSigner?nonce%3Djb0simm1t7s0m%26continue%3Dhttps://doc-0g-8o-docs.googleusercontent.com/docs/securesc/qkaugo6314u8fv5lmscc33kqv5o3bopg/esvgvhjj10btnsk4g68shecqqoktphlh/1646479875000/07750003106284155945/16543569848639810509/1d0yM-NOQU8UAsfwmHIA08O_0q0zrIZLt?e%253Ddownload%2526ax%253DACxEAsYkJsl0iaJ-_j2SpzTlnNaraQ1SR8vugOQw9Z_28iMomB8qwbHjWc8MYEQVFgWRV-dkB7bqzpvCF2PZlFUwAoqIpdoaBhuxq8SuVV1XYVOJWRhmeY3obuLdMMw1v-TF1YJrdQobETTPbhccdOcF3MRw1bIfoTVkvi1HyMfFkK40miijIeszK9jmBdheS42jVIdow5AkKew-AappaIjoVyi4UFG9Qx9ooNiOCjzVvZzIEIWnH-kHhaC5gqBT7FKNdYrruMa5lJG8fjqqrhoCv_8ybjgoWqpZLLu3V1TxxEpX4JhdGs9Hn6Tond3gwuHFGBZjdrB72i_nbpDRcISzm3AKVxZoG9lKFuVufZMk_XhRPo_AijG-ZsuxoJV2swZbvqKrge0bQjf9swLq-WG4osA_hF-IJGyDlfgvEfnP8ivlbDnA7URrr9z8UiKEvhgF12OtxOARlR-pEStuz8xH97Y0qmY4L43O0VEyNvENnj64azs1t3wmxIaoA-S7D1aKWniFlqBu_7LlJ30MQ0rCoaES3Xys02bhn_rZKkRRrBzz2LMmijHkCtF2mtSIseihuTuk44JIKBD4KSPLmIZQ6Dplr9jlpOh5NJLofzKpBJeeDHQOwxEboXy1LkjUjd5YR3gjgBq9zFbOfyskjtEQMLafBTlJPMTPdGJHlXk%2526nonce%253Dmcq8019j2dkbm%2526user%253D16543569848639810509%2526authuser%253D1%2526hash%253D832393uruv0rtilcoehviq5c8tm135k5%26hash%3D243bpebvtnej6t3buk9rqvl4at32d9gl\n",
      "Resolving accounts.google.com (accounts.google.com)... 142.250.200.13\n",
      "Connecting to accounts.google.com (accounts.google.com)|142.250.200.13|:443... connected.\n",
      "HTTP request sent, awaiting response... 200 OK\n",
      "Length: unspecified [text/html]\n",
      "Saving to: ‘1d0yM-NOQU8UAsfwmHIA08O_0q0zrIZLt?e=download&ax=ACxEAsYkJsl0iaJ-_j2SpzTlnNaraQ1SR8vugOQw9Z_28iMomB8qwbHjWc8MYEQVFgWRV-dkB7bqzpvCF2PZlFUwAoqIpdoaBhuxq8SuVV1XYVOJWRhmeY3obuLdMMw1v-TF1YJrdQobETTPbhccdOcF3MRw1bIfoTVkvi1HyMfFkK40miijIeszK9jm’\n",
      "\n",
      "1d0yM-NOQU8UAsfwmHI     [ <=>                ] 102.73K  --.-KB/s    in 0.02s   \n",
      "\n",
      "2022-03-05 11:35:14 (5.72 MB/s) - ‘1d0yM-NOQU8UAsfwmHIA08O_0q0zrIZLt?e=download&ax=ACxEAsYkJsl0iaJ-_j2SpzTlnNaraQ1SR8vugOQw9Z_28iMomB8qwbHjWc8MYEQVFgWRV-dkB7bqzpvCF2PZlFUwAoqIpdoaBhuxq8SuVV1XYVOJWRhmeY3obuLdMMw1v-TF1YJrdQobETTPbhccdOcF3MRw1bIfoTVkvi1HyMfFkK40miijIeszK9jm’ saved [105200]\n",
      "\n",
      "/Users/jw/Projects/hackathon\n"
     ]
    }
   ],
   "source": [
    "%cd yolov5\n",
    "!python3 -m pip install -r requirements.txt\n",
    "%cd 'input'\n",
    "!wget \"https://doc-0g-8o-docs.googleusercontent.com/docs/securesc/qkaugo6314u8fv5lmscc33kqv5o3bopg/esvgvhjj10btnsk4g68shecqqoktphlh/1646479875000/07750003106284155945/16543569848639810509/1d0yM-NOQU8UAsfwmHIA08O_0q0zrIZLt?e=download&ax=ACxEAsYkJsl0iaJ-_j2SpzTlnNaraQ1SR8vugOQw9Z_28iMomB8qwbHjWc8MYEQVFgWRV-dkB7bqzpvCF2PZlFUwAoqIpdoaBhuxq8SuVV1XYVOJWRhmeY3obuLdMMw1v-TF1YJrdQobETTPbhccdOcF3MRw1bIfoTVkvi1HyMfFkK40miijIeszK9jmBdheS42jVIdow5AkKew-AappaIjoVyi4UFG9Qx9ooNiOCjzVvZzIEIWnH-kHhaC5gqBT7FKNdYrruMa5lJG8fjqqrhoCv_8ybjgoWqpZLLu3V1TxxEpX4JhdGs9Hn6Tond3gwuHFGBZjdrB72i_nbpDRcISzm3AKVxZoG9lKFuVufZMk_XhRPo_AijG-ZsuxoJV2swZbvqKrge0bQjf9swLq-WG4osA_hF-IJGyDlfgvEfnP8ivlbDnA7URrr9z8UiKEvhgF12OtxOARlR-pEStuz8xH97Y0qmY4L43O0VEyNvENnj64azs1t3wmxIaoA-S7D1aKWniFlqBu_7LlJ30MQ0rCoaES3Xys02bhn_rZKkRRrBzz2LMmijHkCtF2mtSIseihuTuk44JIKBD4KSPLmIZQ6Dplr9jlpOh5NJLofzKpBJeeDHQOwxEboXy1LkjUjd5YR3gjgBq9zFbOfyskjtEQMLafBTlJPMTPdGJHlXk&authuser=1&nonce=mcq8019j2dkbm&user=16543569848639810509&hash=832393uruv0rtilcoehviq5c8tm135k5\"\n",
    "%cd ../.."
   ]
  },
  {
   "cell_type": "markdown",
   "metadata": {},
   "source": [
    "### Authenticate with the Vantage platform\n",
    "To interact with the api you will need an API key that can be generated on the vantage platform. If you do not have this please generate a key from your account area.\n",
    "https://vantage.earthi.world/advanced/#/account . Your username will be the email address you used to sign up with"
   ]
  },
  {
   "cell_type": "code",
   "execution_count": null,
   "metadata": {},
   "outputs": [],
   "source": [
    "import getpass\n",
    "from vantage_api.services import VantageServiceApi\n",
    "\n",
    "user = input('Vantage Email Address: ')\n",
    "apiKey = getpass.getpass('API Key:')\n",
    "\n",
    "vantageApi = VantageServiceApi(user, apiKey)"
   ]
  },
  {
   "cell_type": "markdown",
   "metadata": {},
   "source": [
    "### Searching for an Airport\n",
    "You are able to search for airports using the airport database. If you know the IATA code you can use the code below to find the airport. The result will give to longitude and latiute information you can use to search for videos on the Vantage platform. A couple of codes that can be used here:\n",
    "\n",
    "* AKL"
   ]
  },
  {
   "cell_type": "code",
   "execution_count": null,
   "metadata": {},
   "outputs": [],
   "source": [
    "from airport_database.airports import Airports\n",
    "from vantage_api.utils import GeoRequest\n",
    "\n",
    "iataCode = input('IATA Code: ')\n",
    "airports = Airports()\n",
    "airport = airports.findByIATACode(iataCode.upper())\n",
    "print('Airport: '+airport.name)\n",
    "print('Latitude: '+str(airport.lat_decimal))\n",
    "print('Longitude: '+str(airport.lon_decimal))\n",
    "\n",
    "geoData = GeoRequest()\n",
    "geoData.fromBoundingBox(airport.boundingBox(halfSideInKm=10))\n",
    "\n",
    "features = vantageApi.getSearch(geoData).getFeatures()\n",
    "for key in features.keys():\n",
    "    print(key)\n",
    "\n",
    "chosenFeature = None\n",
    "while chosenFeature == None:\n",
    "    chosenKey = input('Enter a Key to Process: ')    \n",
    "    if chosenKey in features.keys():\n",
    "        chosenFeature = features[chosenKey]        \n",
    "\n",
    "print('Chosen: '+chosenFeature)"
   ]
  },
  {
   "cell_type": "markdown",
   "metadata": {},
   "source": [
    "### Download Video From Vantage Platform\n",
    "Downloading the image from the vantage platform requires you to create a job and wait for its result. The API wrapper on AdVantage will allow you to do this in one command.\n",
    "\n",
    "You can also download a stablised video using the `stabliseVideo` service.\n",
    "\n",
    "Please choose one of two pieces of code to start the download. \n",
    "\n",
    "**Please note it can take quite some time to download these videos from the Vantage platform**"
   ]
  },
  {
   "cell_type": "code",
   "execution_count": null,
   "metadata": {},
   "outputs": [],
   "source": [
    "outputFiles = vantageApi.downloadFiles(chosenFeature,'./input', verbose=True)\n",
    "print(outputFiles)"
   ]
  },
  {
   "cell_type": "code",
   "execution_count": null,
   "metadata": {},
   "outputs": [],
   "source": [
    "outputFiles = vantageApi.stabliseVideo(chosenFeature,'./input', verbose=True)\n",
    "print(outputFiles)"
   ]
  },
  {
   "cell_type": "markdown",
   "metadata": {},
   "source": [
    "### Detect Aircraft Movements\n",
    "The AdVantage platform is written to run via a pipeline. This allows you to easily create tasks for each frame of the video and perform tasks"
   ]
  },
  {
   "cell_type": "code",
   "execution_count": 8,
   "metadata": {},
   "outputs": [
    {
     "name": "stderr",
     "output_type": "stream",
     "text": [
      "YOLOv5 🚀 v6.1-14-g8a66eba torch 1.10.2 CPU\n",
      "\n"
     ]
    },
    {
     "ename": "FileNotFoundError",
     "evalue": "[Errno 2] No such file or directory: 'input/best.pt'",
     "output_type": "error",
     "traceback": [
      "\u001b[0;31m---------------------------------------------------------------------------\u001b[0m",
      "\u001b[0;31mFileNotFoundError\u001b[0m                         Traceback (most recent call last)",
      "\u001b[0;32m/var/folders/qp/ddcksjvs435_vlfpzvt_4t0h0000gn/T/ipykernel_68465/3500315552.py\u001b[0m in \u001b[0;36m<module>\u001b[0;34m\u001b[0m\n\u001b[1;32m     29\u001b[0m     \u001b[0;31m#Verbose(),\u001b[0m\u001b[0;34m\u001b[0m\u001b[0;34m\u001b[0m\u001b[0;34m\u001b[0m\u001b[0m\n\u001b[1;32m     30\u001b[0m     \u001b[0mVideoWriter\u001b[0m\u001b[0;34m(\u001b[0m\u001b[0moutputDir\u001b[0m\u001b[0;34m+\u001b[0m\u001b[0;34m'/'\u001b[0m\u001b[0;34m+\u001b[0m\u001b[0mfilename\u001b[0m\u001b[0;34m+\u001b[0m\u001b[0;34m'.mp4'\u001b[0m\u001b[0;34m)\u001b[0m\u001b[0;34m,\u001b[0m\u001b[0;34m\u001b[0m\u001b[0;34m\u001b[0m\u001b[0m\n\u001b[0;32m---> 31\u001b[0;31m     \u001b[0mYoloProcessor\u001b[0m\u001b[0;34m(\u001b[0m\u001b[0mos\u001b[0m\u001b[0;34m.\u001b[0m\u001b[0mpath\u001b[0m\u001b[0;34m.\u001b[0m\u001b[0mjoin\u001b[0m\u001b[0;34m(\u001b[0m\u001b[0mcwd\u001b[0m\u001b[0;34m,\u001b[0m\u001b[0;34m'input'\u001b[0m\u001b[0;34m,\u001b[0m\u001b[0;34m'best.pt'\u001b[0m\u001b[0;34m)\u001b[0m\u001b[0;34m)\u001b[0m\u001b[0;34m,\u001b[0m\u001b[0;34m\u001b[0m\u001b[0;34m\u001b[0m\u001b[0m\n\u001b[0m\u001b[1;32m     32\u001b[0m     \u001b[0mVideoPredictionVisualisation\u001b[0m\u001b[0;34m(\u001b[0m\u001b[0;34m)\u001b[0m\u001b[0;34m,\u001b[0m\u001b[0;34m\u001b[0m\u001b[0;34m\u001b[0m\u001b[0m\n\u001b[1;32m     33\u001b[0m ]\n",
      "\u001b[0;32m~/Projects/hackathon/AdVantage/advantage/handlers.py\u001b[0m in \u001b[0;36m__init__\u001b[0;34m(self, weights, imgz, stride, device, conf_thres, iou_thres, max_det, classes, agnostic_nms, half, skip_frames)\u001b[0m\n\u001b[1;32m    203\u001b[0m         \u001b[0msuper\u001b[0m\u001b[0;34m(\u001b[0m\u001b[0;34m)\u001b[0m\u001b[0;34m.\u001b[0m\u001b[0m__init__\u001b[0m\u001b[0;34m(\u001b[0m\u001b[0;34m)\u001b[0m\u001b[0;34m\u001b[0m\u001b[0;34m\u001b[0m\u001b[0m\n\u001b[1;32m    204\u001b[0m         \u001b[0mself\u001b[0m\u001b[0;34m.\u001b[0m\u001b[0mdevice\u001b[0m \u001b[0;34m=\u001b[0m \u001b[0mdevice\u001b[0m \u001b[0;34m=\u001b[0m \u001b[0mselect_device\u001b[0m\u001b[0;34m(\u001b[0m\u001b[0mdevice\u001b[0m\u001b[0;34m)\u001b[0m\u001b[0;34m\u001b[0m\u001b[0;34m\u001b[0m\u001b[0m\n\u001b[0;32m--> 205\u001b[0;31m         \u001b[0mself\u001b[0m\u001b[0;34m.\u001b[0m\u001b[0mmodel\u001b[0m \u001b[0;34m=\u001b[0m \u001b[0mDetectMultiBackend\u001b[0m\u001b[0;34m(\u001b[0m\u001b[0mweights\u001b[0m\u001b[0;34m,\u001b[0m \u001b[0mdevice\u001b[0m\u001b[0;34m=\u001b[0m\u001b[0mself\u001b[0m\u001b[0;34m.\u001b[0m\u001b[0mdevice\u001b[0m\u001b[0;34m,\u001b[0m \u001b[0mdnn\u001b[0m\u001b[0;34m=\u001b[0m\u001b[0;32mFalse\u001b[0m\u001b[0;34m)\u001b[0m\u001b[0;34m\u001b[0m\u001b[0;34m\u001b[0m\u001b[0m\n\u001b[0m\u001b[1;32m    206\u001b[0m         \u001b[0mself\u001b[0m\u001b[0;34m.\u001b[0m\u001b[0mimgz\u001b[0m \u001b[0;34m=\u001b[0m \u001b[0mimgz\u001b[0m\u001b[0;34m\u001b[0m\u001b[0;34m\u001b[0m\u001b[0m\n\u001b[1;32m    207\u001b[0m         \u001b[0mself\u001b[0m\u001b[0;34m.\u001b[0m\u001b[0mstride\u001b[0m \u001b[0;34m=\u001b[0m \u001b[0mstride\u001b[0m\u001b[0;34m\u001b[0m\u001b[0;34m\u001b[0m\u001b[0m\n",
      "\u001b[0;32m~/Projects/hackathon/AdVantage/yolov5/models/common.py\u001b[0m in \u001b[0;36m__init__\u001b[0;34m(self, weights, device, dnn, data)\u001b[0m\n\u001b[1;32m    303\u001b[0m \u001b[0;34m\u001b[0m\u001b[0m\n\u001b[1;32m    304\u001b[0m         \u001b[0;32mif\u001b[0m \u001b[0mpt\u001b[0m\u001b[0;34m:\u001b[0m  \u001b[0;31m# PyTorch\u001b[0m\u001b[0;34m\u001b[0m\u001b[0;34m\u001b[0m\u001b[0m\n\u001b[0;32m--> 305\u001b[0;31m             \u001b[0mmodel\u001b[0m \u001b[0;34m=\u001b[0m \u001b[0mattempt_load\u001b[0m\u001b[0;34m(\u001b[0m\u001b[0mweights\u001b[0m \u001b[0;32mif\u001b[0m \u001b[0misinstance\u001b[0m\u001b[0;34m(\u001b[0m\u001b[0mweights\u001b[0m\u001b[0;34m,\u001b[0m \u001b[0mlist\u001b[0m\u001b[0;34m)\u001b[0m \u001b[0;32melse\u001b[0m \u001b[0mw\u001b[0m\u001b[0;34m,\u001b[0m \u001b[0mmap_location\u001b[0m\u001b[0;34m=\u001b[0m\u001b[0mdevice\u001b[0m\u001b[0;34m)\u001b[0m\u001b[0;34m\u001b[0m\u001b[0;34m\u001b[0m\u001b[0m\n\u001b[0m\u001b[1;32m    306\u001b[0m             \u001b[0mstride\u001b[0m \u001b[0;34m=\u001b[0m \u001b[0mmax\u001b[0m\u001b[0;34m(\u001b[0m\u001b[0mint\u001b[0m\u001b[0;34m(\u001b[0m\u001b[0mmodel\u001b[0m\u001b[0;34m.\u001b[0m\u001b[0mstride\u001b[0m\u001b[0;34m.\u001b[0m\u001b[0mmax\u001b[0m\u001b[0;34m(\u001b[0m\u001b[0;34m)\u001b[0m\u001b[0;34m)\u001b[0m\u001b[0;34m,\u001b[0m \u001b[0;36m32\u001b[0m\u001b[0;34m)\u001b[0m  \u001b[0;31m# model stride\u001b[0m\u001b[0;34m\u001b[0m\u001b[0;34m\u001b[0m\u001b[0m\n\u001b[1;32m    307\u001b[0m             \u001b[0mnames\u001b[0m \u001b[0;34m=\u001b[0m \u001b[0mmodel\u001b[0m\u001b[0;34m.\u001b[0m\u001b[0mmodule\u001b[0m\u001b[0;34m.\u001b[0m\u001b[0mnames\u001b[0m \u001b[0;32mif\u001b[0m \u001b[0mhasattr\u001b[0m\u001b[0;34m(\u001b[0m\u001b[0mmodel\u001b[0m\u001b[0;34m,\u001b[0m \u001b[0;34m'module'\u001b[0m\u001b[0;34m)\u001b[0m \u001b[0;32melse\u001b[0m \u001b[0mmodel\u001b[0m\u001b[0;34m.\u001b[0m\u001b[0mnames\u001b[0m  \u001b[0;31m# get class names\u001b[0m\u001b[0;34m\u001b[0m\u001b[0;34m\u001b[0m\u001b[0m\n",
      "\u001b[0;32m~/Projects/hackathon/AdVantage/yolov5/models/experimental.py\u001b[0m in \u001b[0;36mattempt_load\u001b[0;34m(weights, map_location, inplace, fuse)\u001b[0m\n\u001b[1;32m     94\u001b[0m     \u001b[0mmodel\u001b[0m \u001b[0;34m=\u001b[0m \u001b[0mEnsemble\u001b[0m\u001b[0;34m(\u001b[0m\u001b[0;34m)\u001b[0m\u001b[0;34m\u001b[0m\u001b[0;34m\u001b[0m\u001b[0m\n\u001b[1;32m     95\u001b[0m     \u001b[0;32mfor\u001b[0m \u001b[0mw\u001b[0m \u001b[0;32min\u001b[0m \u001b[0mweights\u001b[0m \u001b[0;32mif\u001b[0m \u001b[0misinstance\u001b[0m\u001b[0;34m(\u001b[0m\u001b[0mweights\u001b[0m\u001b[0;34m,\u001b[0m \u001b[0mlist\u001b[0m\u001b[0;34m)\u001b[0m \u001b[0;32melse\u001b[0m \u001b[0;34m[\u001b[0m\u001b[0mweights\u001b[0m\u001b[0;34m]\u001b[0m\u001b[0;34m:\u001b[0m\u001b[0;34m\u001b[0m\u001b[0;34m\u001b[0m\u001b[0m\n\u001b[0;32m---> 96\u001b[0;31m         \u001b[0mckpt\u001b[0m \u001b[0;34m=\u001b[0m \u001b[0mtorch\u001b[0m\u001b[0;34m.\u001b[0m\u001b[0mload\u001b[0m\u001b[0;34m(\u001b[0m\u001b[0mattempt_download\u001b[0m\u001b[0;34m(\u001b[0m\u001b[0mw\u001b[0m\u001b[0;34m)\u001b[0m\u001b[0;34m,\u001b[0m \u001b[0mmap_location\u001b[0m\u001b[0;34m=\u001b[0m\u001b[0mmap_location\u001b[0m\u001b[0;34m)\u001b[0m  \u001b[0;31m# load\u001b[0m\u001b[0;34m\u001b[0m\u001b[0;34m\u001b[0m\u001b[0m\n\u001b[0m\u001b[1;32m     97\u001b[0m         \u001b[0;32mif\u001b[0m \u001b[0mfuse\u001b[0m\u001b[0;34m:\u001b[0m\u001b[0;34m\u001b[0m\u001b[0;34m\u001b[0m\u001b[0m\n\u001b[1;32m     98\u001b[0m             \u001b[0mmodel\u001b[0m\u001b[0;34m.\u001b[0m\u001b[0mappend\u001b[0m\u001b[0;34m(\u001b[0m\u001b[0mckpt\u001b[0m\u001b[0;34m[\u001b[0m\u001b[0;34m'ema'\u001b[0m \u001b[0;32mif\u001b[0m \u001b[0mckpt\u001b[0m\u001b[0;34m.\u001b[0m\u001b[0mget\u001b[0m\u001b[0;34m(\u001b[0m\u001b[0;34m'ema'\u001b[0m\u001b[0;34m)\u001b[0m \u001b[0;32melse\u001b[0m \u001b[0;34m'model'\u001b[0m\u001b[0;34m]\u001b[0m\u001b[0;34m.\u001b[0m\u001b[0mfloat\u001b[0m\u001b[0;34m(\u001b[0m\u001b[0;34m)\u001b[0m\u001b[0;34m.\u001b[0m\u001b[0mfuse\u001b[0m\u001b[0;34m(\u001b[0m\u001b[0;34m)\u001b[0m\u001b[0;34m.\u001b[0m\u001b[0meval\u001b[0m\u001b[0;34m(\u001b[0m\u001b[0;34m)\u001b[0m\u001b[0;34m)\u001b[0m  \u001b[0;31m# FP32 model\u001b[0m\u001b[0;34m\u001b[0m\u001b[0;34m\u001b[0m\u001b[0m\n",
      "\u001b[0;32m/Library/Frameworks/Python.framework/Versions/3.9/lib/python3.9/site-packages/torch/serialization.py\u001b[0m in \u001b[0;36mload\u001b[0;34m(f, map_location, pickle_module, **pickle_load_args)\u001b[0m\n\u001b[1;32m    592\u001b[0m         \u001b[0mpickle_load_args\u001b[0m\u001b[0;34m[\u001b[0m\u001b[0;34m'encoding'\u001b[0m\u001b[0;34m]\u001b[0m \u001b[0;34m=\u001b[0m \u001b[0;34m'utf-8'\u001b[0m\u001b[0;34m\u001b[0m\u001b[0;34m\u001b[0m\u001b[0m\n\u001b[1;32m    593\u001b[0m \u001b[0;34m\u001b[0m\u001b[0m\n\u001b[0;32m--> 594\u001b[0;31m     \u001b[0;32mwith\u001b[0m \u001b[0m_open_file_like\u001b[0m\u001b[0;34m(\u001b[0m\u001b[0mf\u001b[0m\u001b[0;34m,\u001b[0m \u001b[0;34m'rb'\u001b[0m\u001b[0;34m)\u001b[0m \u001b[0;32mas\u001b[0m \u001b[0mopened_file\u001b[0m\u001b[0;34m:\u001b[0m\u001b[0;34m\u001b[0m\u001b[0;34m\u001b[0m\u001b[0m\n\u001b[0m\u001b[1;32m    595\u001b[0m         \u001b[0;32mif\u001b[0m \u001b[0m_is_zipfile\u001b[0m\u001b[0;34m(\u001b[0m\u001b[0mopened_file\u001b[0m\u001b[0;34m)\u001b[0m\u001b[0;34m:\u001b[0m\u001b[0;34m\u001b[0m\u001b[0;34m\u001b[0m\u001b[0m\n\u001b[1;32m    596\u001b[0m             \u001b[0;31m# The zipfile reader is going to advance the current file position.\u001b[0m\u001b[0;34m\u001b[0m\u001b[0;34m\u001b[0m\u001b[0;34m\u001b[0m\u001b[0m\n",
      "\u001b[0;32m/Library/Frameworks/Python.framework/Versions/3.9/lib/python3.9/site-packages/torch/serialization.py\u001b[0m in \u001b[0;36m_open_file_like\u001b[0;34m(name_or_buffer, mode)\u001b[0m\n\u001b[1;32m    228\u001b[0m \u001b[0;32mdef\u001b[0m \u001b[0m_open_file_like\u001b[0m\u001b[0;34m(\u001b[0m\u001b[0mname_or_buffer\u001b[0m\u001b[0;34m,\u001b[0m \u001b[0mmode\u001b[0m\u001b[0;34m)\u001b[0m\u001b[0;34m:\u001b[0m\u001b[0;34m\u001b[0m\u001b[0;34m\u001b[0m\u001b[0m\n\u001b[1;32m    229\u001b[0m     \u001b[0;32mif\u001b[0m \u001b[0m_is_path\u001b[0m\u001b[0;34m(\u001b[0m\u001b[0mname_or_buffer\u001b[0m\u001b[0;34m)\u001b[0m\u001b[0;34m:\u001b[0m\u001b[0;34m\u001b[0m\u001b[0;34m\u001b[0m\u001b[0m\n\u001b[0;32m--> 230\u001b[0;31m         \u001b[0;32mreturn\u001b[0m \u001b[0m_open_file\u001b[0m\u001b[0;34m(\u001b[0m\u001b[0mname_or_buffer\u001b[0m\u001b[0;34m,\u001b[0m \u001b[0mmode\u001b[0m\u001b[0;34m)\u001b[0m\u001b[0;34m\u001b[0m\u001b[0;34m\u001b[0m\u001b[0m\n\u001b[0m\u001b[1;32m    231\u001b[0m     \u001b[0;32melse\u001b[0m\u001b[0;34m:\u001b[0m\u001b[0;34m\u001b[0m\u001b[0;34m\u001b[0m\u001b[0m\n\u001b[1;32m    232\u001b[0m         \u001b[0;32mif\u001b[0m \u001b[0;34m'w'\u001b[0m \u001b[0;32min\u001b[0m \u001b[0mmode\u001b[0m\u001b[0;34m:\u001b[0m\u001b[0;34m\u001b[0m\u001b[0;34m\u001b[0m\u001b[0m\n",
      "\u001b[0;32m/Library/Frameworks/Python.framework/Versions/3.9/lib/python3.9/site-packages/torch/serialization.py\u001b[0m in \u001b[0;36m__init__\u001b[0;34m(self, name, mode)\u001b[0m\n\u001b[1;32m    209\u001b[0m \u001b[0;32mclass\u001b[0m \u001b[0m_open_file\u001b[0m\u001b[0;34m(\u001b[0m\u001b[0m_opener\u001b[0m\u001b[0;34m)\u001b[0m\u001b[0;34m:\u001b[0m\u001b[0;34m\u001b[0m\u001b[0;34m\u001b[0m\u001b[0m\n\u001b[1;32m    210\u001b[0m     \u001b[0;32mdef\u001b[0m \u001b[0m__init__\u001b[0m\u001b[0;34m(\u001b[0m\u001b[0mself\u001b[0m\u001b[0;34m,\u001b[0m \u001b[0mname\u001b[0m\u001b[0;34m,\u001b[0m \u001b[0mmode\u001b[0m\u001b[0;34m)\u001b[0m\u001b[0;34m:\u001b[0m\u001b[0;34m\u001b[0m\u001b[0;34m\u001b[0m\u001b[0m\n\u001b[0;32m--> 211\u001b[0;31m         \u001b[0msuper\u001b[0m\u001b[0;34m(\u001b[0m\u001b[0m_open_file\u001b[0m\u001b[0;34m,\u001b[0m \u001b[0mself\u001b[0m\u001b[0;34m)\u001b[0m\u001b[0;34m.\u001b[0m\u001b[0m__init__\u001b[0m\u001b[0;34m(\u001b[0m\u001b[0mopen\u001b[0m\u001b[0;34m(\u001b[0m\u001b[0mname\u001b[0m\u001b[0;34m,\u001b[0m \u001b[0mmode\u001b[0m\u001b[0;34m)\u001b[0m\u001b[0;34m)\u001b[0m\u001b[0;34m\u001b[0m\u001b[0;34m\u001b[0m\u001b[0m\n\u001b[0m\u001b[1;32m    212\u001b[0m \u001b[0;34m\u001b[0m\u001b[0m\n\u001b[1;32m    213\u001b[0m     \u001b[0;32mdef\u001b[0m \u001b[0m__exit__\u001b[0m\u001b[0;34m(\u001b[0m\u001b[0mself\u001b[0m\u001b[0;34m,\u001b[0m \u001b[0;34m*\u001b[0m\u001b[0margs\u001b[0m\u001b[0;34m)\u001b[0m\u001b[0;34m:\u001b[0m\u001b[0;34m\u001b[0m\u001b[0;34m\u001b[0m\u001b[0m\n",
      "\u001b[0;31mFileNotFoundError\u001b[0m: [Errno 2] No such file or directory: 'input/best.pt'"
     ]
    }
   ],
   "source": [
    "import os.path\n",
    "import zipfile\n",
    "import sys\n",
    "sys.path.insert(0, './yolov5')\n",
    "from advantage.app import AdVantage\n",
    "from advantage.handlers import *\n",
    "\n",
    "#Test file if downloads on Vantage are not working - File must be in the input folder\n",
    "#chosenFeature = 'https://esrin-data-input.s3.eu-west-2.amazonaws.com/Vivid-X2/VX020003b9.zip'\n",
    "chosenFeature = './input/stabalised_VX020001c0.mp4'\n",
    "\n",
    "app = AdVantage()\n",
    "cwd = '.'\n",
    "outputDir = os.path.join(cwd, 'output')\n",
    "\n",
    "if not os.path.exists(outputDir):\n",
    "    os.makedirs(outputDir)\n",
    "   \n",
    "filename, file_extension = os.path.splitext(chosenFeature)\n",
    "filename = os.path.basename(filename)\n",
    "isZip = file_extension == '.zip'\n",
    "if isZip:\n",
    "    print('unzipping files')\n",
    "    with zipfile.ZipFile(os.path.join(cwd,'input',filename+'.zip'), 'r') as zip_ref:\n",
    "        zip_ref.extractall('input/')\n",
    "\n",
    "\n",
    "pipelines = [\n",
    "    #Verbose(),\n",
    "    VideoWriter(outputDir+'/'+filename+'.mp4'),\n",
    "    YoloProcessor(os.path.join(cwd,'input','best.pt')), \n",
    "    VideoPredictionVisualisation(),\n",
    "]\n",
    "\n",
    "if isZip:\n",
    "    pipelines.append(VideoAttachGeoData(os.path.join(cwd,'input',filename+'_geometry.xml')))\n",
    "\n",
    "outputVideoPath = os.path.join(cwd,'input', filename+'.mp4')\n",
    "print('Processing Video Please Wait')\n",
    "result = app.process_video(outputVideoPath, app.pipeline_factory(pipelines))\n",
    "print('Video Created: '+outputVideoPath)   \n",
    "app.save_output_to_json(result, os.path.join(cwd,'output','results.json'))\n",
    "\n"
   ]
  },
  {
   "cell_type": "markdown",
   "metadata": {},
   "source": [
    "# Pipeline todo\n",
    "- get video from vantage platform (or wget a pre-downloaded video for POC)\n",
    "- split into frames  or load video frame per frame using open cv\n",
    "- run yolo on each frame recording bbox of each image in yolo format\n",
    "- convert yolo format bbox to geographic format using frame metadata and projection\n",
    "    - display on map for POC\n",
    "- create binary image which is geo based\n",
    "- run particle filter or something similar using CV2 to track objects\n",
    "- use tracked objects positioning etc. to calculate speed and heading\n",
    "- display this both in a map and on the original video"
   ]
  }
 ],
 "metadata": {
  "interpreter": {
   "hash": "916dbcbb3f70747c44a77c7bcd40155683ae19c65e1c03b4aa3499c5328201f1"
  },
  "kernelspec": {
   "display_name": "Python 3.8.10 64-bit",
   "language": "python",
   "name": "python3"
  },
  "language_info": {
   "codemirror_mode": {
    "name": "ipython",
    "version": 3
   },
   "file_extension": ".py",
   "mimetype": "text/x-python",
   "name": "python",
   "nbconvert_exporter": "python",
   "pygments_lexer": "ipython3",
   "version": "3.9.6"
  },
  "orig_nbformat": 4
 },
 "nbformat": 4,
 "nbformat_minor": 2
}
