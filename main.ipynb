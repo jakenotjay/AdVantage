{
 "cells": [
  {
   "cell_type": "markdown",
   "metadata": {},
   "source": [
    "# AdVantage\n",
    "adVantage is a collection of tools to be able to detect moving aircraft in a video from the vantage platform. Below is a walkthrough how to perform the tracking process.\n",
    "\n",
    "https://vantage.earthi.world/explore/"
   ]
  },
  {
   "cell_type": "markdown",
   "metadata": {},
   "source": [
    "### Download yolov5 repository\n",
    "\n",
    "Yolov5 repository needs to be installed before the AdVantage example will work. You will need to clone the repository into the current working directory."
   ]
  },
  {
   "cell_type": "code",
   "execution_count": null,
   "metadata": {},
   "outputs": [],
   "source": [
    "!git clone https://github.com/ultralytics/yolov5.git"
   ]
  },
  {
   "cell_type": "markdown",
   "metadata": {},
   "source": [
    "### Authenticate with the Vantage platform\n",
    "To interact with the api you will need an API key that can be generated on the vantage platform. If you do not have this please generate a key from your account area.\n",
    "https://vantage.earthi.world/advanced/#/account . Your username will be the email address you used to sign up with"
   ]
  },
  {
   "cell_type": "code",
   "execution_count": null,
   "metadata": {},
   "outputs": [],
   "source": [
    "import getpass\n",
    "from vantage_api.services import VantageServiceApi\n",
    "\n",
    "user = input('Vantage Email Address: ')\n",
    "apiKey = getpass.getpass('API Key:')\n",
    "\n",
    "vantageApi = VantageServiceApi(user, apiKey)"
   ]
  },
  {
   "cell_type": "markdown",
   "metadata": {},
   "source": [
    "### Searching for an Airport\n",
    "You are able to search for airports using the airport database. If you know the IATA code you can use the code below to find the airport. The result will give to longitude and latiute information you can use to search for videos on the Vantage platform. A couple of codes that can be used here:\n",
    "\n",
    "* AKL"
   ]
  },
  {
   "cell_type": "code",
   "execution_count": null,
   "metadata": {},
   "outputs": [],
   "source": [
    "from airport_database.airports import Airports\n",
    "from vantage_api.utils import GeoRequest\n",
    "\n",
    "iataCode = input('IATA Code: ')\n",
    "airports = Airports()\n",
    "airport = airports.findByIATACode(iataCode.upper())\n",
    "print('Airport: '+airport.name)\n",
    "print('Latitude: '+str(airport.lat_decimal))\n",
    "print('Longitude: '+str(airport.lon_decimal))\n",
    "\n",
    "geoData = GeoRequest()\n",
    "geoData.fromBoundingBox(airport.boundingBox(halfSideInKm=10))\n",
    "\n",
    "features = vantageApi.getSearch(geoData).getFeatures()\n",
    "for key in features.keys():\n",
    "    print(key)\n",
    "\n",
    "chosenFeature = None\n",
    "while chosenFeature == None:\n",
    "    chosenKey = input('Enter a Key to Process: ')    \n",
    "    if chosenKey in features.keys():\n",
    "        chosenFeature = features[chosenKey]        \n",
    "\n",
    "print('Chosen: '+chosenFeature)"
   ]
  },
  {
   "cell_type": "markdown",
   "metadata": {},
   "source": [
    "### Download Video From Vantage Platform\n",
    "Downloading the image from the vantage platform requires you to create a job and wait for its result. The API wrapper on AdVantage will allow you to do this in one command.\n",
    "\n",
    "You can also download a stablised video using the `stabliseVideo` service.\n",
    "\n",
    "Please choose one of two pieces of code to start the download. \n",
    "\n",
    "**Please note it can take quite some time to download these videos from the Vantage platform**"
   ]
  },
  {
   "cell_type": "code",
   "execution_count": null,
   "metadata": {},
   "outputs": [],
   "source": [
    "outputFiles = vantageApi.downloadFiles(chosenFeature,'./input', verbose=True)\n",
    "print(outputFiles)"
   ]
  },
  {
   "cell_type": "code",
   "execution_count": null,
   "metadata": {},
   "outputs": [],
   "source": [
    "outputFiles = vantageApi.stabliseVideo(chosenFeature,'./input', verbose=True)\n",
    "print(outputFiles)"
   ]
  },
  {
   "cell_type": "markdown",
   "metadata": {},
   "source": [
    "### Detect Aircraft Movements\n",
    "The AdVantage platform is written to run via a pipeline. This allows you to easily create tasks for each frame of the video and perform tasks"
   ]
  },
  {
   "cell_type": "code",
   "execution_count": 2,
   "metadata": {},
   "outputs": [
    {
     "name": "stdout",
     "output_type": "stream",
     "text": [
      "unzipping files\n"
     ]
    },
    {
     "name": "stderr",
     "output_type": "stream",
     "text": [
      "YOLOv5 🚀 v6.1-11-g63ddb6f torch 1.10.2+cu102 CPU\n",
      "\n",
      "Fusing layers... \n",
      "Model Summary: 213 layers, 7015519 parameters, 0 gradients, 15.8 GFLOPs\n"
     ]
    },
    {
     "name": "stdout",
     "output_type": "stream",
     "text": [
      "Processing Video Please Wait\n"
     ]
    }
   ],
   "source": [
    "import os.path\n",
    "import zipfile\n",
    "import sys\n",
    "sys.path.insert(0, './yolov5')\n",
    "from advantage.app import AdVantage\n",
    "from advantage.handlers import *\n",
    "\n",
    "#Test file if downloads on Vantage are not working - File must be in the input folder\n",
    "#chosenFeature = 'https://esrin-data-input.s3.eu-west-2.amazonaws.com/Vivid-X2/VX020003b9.zip'\n",
    "\n",
    "app = AdVantage\n",
    "cwd = '.'\n",
    "outputDir = os.path.join(cwd, 'output')\n",
    "\n",
    "if not os.path.exists(outputDir):\n",
    "    os.makedirs(outputDir)\n",
    "   \n",
    "filename, file_extension = os.path.splitext(chosenFeature)\n",
    "filename = os.path.basename(filename)\n",
    "isZip = file_extension == '.zip'\n",
    "if isZip:\n",
    "    print('unzipping files')\n",
    "    with zipfile.ZipFile(os.path.join(cwd,'input',filename+'.zip'), 'r') as zip_ref:\n",
    "        zip_ref.extractall('input/')\n",
    "\n",
    "\n",
    "pipelines = [\n",
    "    #Verbose(),\n",
    "    VideoWriter(outputDir+'/'+filename+'.mp4'),\n",
    "    YoloProcessor(os.path.join(cwd,'input','best.pt')), \n",
    "    VideoPredictionVisulisation(),\n",
    "]\n",
    "\n",
    "if isZip:\n",
    "    pipelines.append(VideoAttachGeoData(os.path.join(cwd,'input',filename+'_geometry.xml')))\n",
    "\n",
    "outputVideoPath = os.path.join(cwd,'input', filename+'.mp4')\n",
    "print('Processing Video Please Wait')\n",
    "result = app.process_video(outputVideoPath, app.pipeline_factory(pipelines))\n",
    "print('Video Created: '+outputVideoPath)   \n",
    "\n",
    "\n"
   ]
  },
  {
   "cell_type": "markdown",
   "metadata": {},
   "source": [
    "# Pipeline todo\n",
    "- get video from vantage platform (or wget a pre-downloaded video for POC)\n",
    "- split into frames  or load video frame per frame using open cv\n",
    "- run yolo on each frame recording bbox of each image in yolo format\n",
    "- convert yolo format bbox to geographic format using frame metadata and projection\n",
    "    - display on map for POC\n",
    "- create binary image which is geo based\n",
    "- run particle filter or something similar using CV2 to track objects\n",
    "- use tracked objects positioning etc. to calculate speed and heading\n",
    "- display this both in a map and on the original video"
   ]
  }
 ],
 "metadata": {
  "interpreter": {
   "hash": "916dbcbb3f70747c44a77c7bcd40155683ae19c65e1c03b4aa3499c5328201f1"
  },
  "kernelspec": {
   "display_name": "Python 3.8.10 64-bit",
   "language": "python",
   "name": "python3"
  },
  "language_info": {
   "codemirror_mode": {
    "name": "ipython",
    "version": 3
   },
   "file_extension": ".py",
   "mimetype": "text/x-python",
   "name": "python",
   "nbconvert_exporter": "python",
   "pygments_lexer": "ipython3",
   "version": "3.8.10"
  },
  "orig_nbformat": 4
 },
 "nbformat": 4,
 "nbformat_minor": 2
}
