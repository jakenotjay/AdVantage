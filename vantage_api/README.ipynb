{
 "cells": [
  {
   "cell_type": "markdown",
   "metadata": {},
   "source": [
    "# Vantage API\n",
    "A Package to make performing tasks on the Vantage platform easier to deal with. \n",
    "\n",
    "## Setup the API"
   ]
  },
  {
   "cell_type": "code",
   "execution_count": 11,
   "metadata": {},
   "outputs": [],
   "source": [
    "import getpass\n",
    "from services import VantageServiceApi\n",
    "\n",
    "user = getpass.getpass('Username: ')\n",
    "apiKey = getpass.getpass('API Key: ')\n",
    "\n",
    "vantageApi = VantageServiceApi(user, apiKey)"
   ]
  },
  {
   "cell_type": "markdown",
   "metadata": {},
   "source": [
    "# Getting Vivid-X Video List Based on Geo Point\n",
    "To make a request you first need to create your bounding box to search between. This is done using the GeoPoints class and providing a list of Longitude and Latitudes\n",
    "\n",
    "Returned is a map of the video id and the url"
   ]
  },
  {
   "cell_type": "code",
   "execution_count": 12,
   "metadata": {},
   "outputs": [
    {
     "name": "stdout",
     "output_type": "stream",
     "text": [
      "VX020003b9 = https://esrin-data-input.s3.eu-west-2.amazonaws.com/Vivid-X2/VX020003b9.zip\n"
     ]
    }
   ],
   "source": [
    "from utils import GeoRequest\n",
    "geoData = GeoRequest()\n",
    "geoData.fromArray([\n",
    "    [165.12764544844623, -47.53375265272916],\n",
    "    [179.5568484551946, -47.53375265272916],\n",
    "    [179.5568484551946, -33.63503505064067],\n",
    "    [165.12764544844623, -33.63503505064067],\n",
    "    [165.12764544844623, -47.53375265272916]\n",
    "])\n",
    "features = vantageApi.getSearch(geoData).getFeatures()\n",
    "# print(features)\n",
    "keys = list(features.keys())\n",
    "firstFeature = features[keys[0]]\n",
    "print(keys[0],'=', firstFeature)"
   ]
  },
  {
   "cell_type": "markdown",
   "metadata": {},
   "source": [
    "# Downloading Video\n",
    "Downloading video requires interacting with the api requiring a few api calls to complete the required steps to download the video. This api abstracts this into a simple call which will create the job, wait for it to complete, then download the video."
   ]
  },
  {
   "cell_type": "code",
   "execution_count": 14,
   "metadata": {},
   "outputs": [
    {
     "name": "stdout",
     "output_type": "stream",
     "text": [
      "current job status: PENDING\n",
      "current job status: RUNNING\n",
      "current job status: RUNNING\n",
      "current job status: RUNNING\n",
      "current job status: RUNNING\n",
      "current job status: RUNNING\n",
      "current job status: RUNNING\n",
      "current job status: RUNNING\n",
      "current job status: RUNNING\n",
      "current job status: RUNNING\n",
      "current job status: RUNNING\n",
      "current job status: RUNNING\n",
      "current job status: RUNNING\n",
      "current job status: RUNNING\n",
      "current job status: RUNNING\n",
      "current job status: RUNNING\n",
      "current job status: RUNNING\n",
      "current job status: RUNNING\n",
      "current job status: RUNNING\n",
      "current job status: RUNNING\n",
      "current job status: RUNNING\n",
      "current job status: RUNNING\n",
      "current job status: RUNNING\n",
      "current job status: RUNNING\n",
      "current job status: RUNNING\n",
      "current job status: RUNNING\n",
      "current job status: RUNNING\n",
      "current job status: RUNNING\n",
      "current job status: RUNNING\n",
      "current job status: RUNNING\n",
      "current job status: RUNNING\n",
      "current job status: RUNNING\n",
      "current job status: RUNNING\n",
      "current job status: RUNNING\n",
      "current job status: COMPLETED\n",
      "downloading 5a91b314-b385-4af2-93c6-10e705f6847a/output/VX02000397.zip to ./VX02000397.zip\n"
     ]
    },
    {
     "ename": "KeyboardInterrupt",
     "evalue": "",
     "output_type": "error",
     "traceback": [
      "\u001b[0;31m---------------------------------------------------------------------------\u001b[0m",
      "\u001b[0;31mKeyboardInterrupt\u001b[0m                         Traceback (most recent call last)",
      "\u001b[1;32m/home/carl/Projects/AdVantage/vantage_api/README.ipynb Cell 6'\u001b[0m in \u001b[0;36m<cell line: 1>\u001b[0;34m()\u001b[0m\n\u001b[0;32m----> <a href='vscode-notebook-cell:/home/carl/Projects/AdVantage/vantage_api/README.ipynb#ch0000006?line=0'>1</a>\u001b[0m vantageApi\u001b[39m.\u001b[39;49mdownloadFiles(firstFeature, \u001b[39m'\u001b[39;49m\u001b[39m./\u001b[39;49m\u001b[39m'\u001b[39;49m,  label\u001b[39m=\u001b[39;49m\u001b[39m'\u001b[39;49m\u001b[39mdownloadJob\u001b[39;49m\u001b[39m'\u001b[39;49m, waitTime\u001b[39m=\u001b[39;49m\u001b[39m10\u001b[39;49m, verbose \u001b[39m=\u001b[39;49m \u001b[39mTrue\u001b[39;49;00m)\n",
      "File \u001b[0;32m~/Projects/AdVantage/vantage_api/services.py:65\u001b[0m, in \u001b[0;36mVantageServiceApi.downloadFiles\u001b[0;34m(self, url, savePath, label, waitTime, verbose)\u001b[0m\n\u001b[1;32m     <a href='file:///~/Projects/AdVantage/vantage_api/services.py?line=62'>63</a>\u001b[0m \u001b[39mif\u001b[39;00m verbose:\n\u001b[1;32m     <a href='file:///~/Projects/AdVantage/vantage_api/services.py?line=63'>64</a>\u001b[0m     \u001b[39mprint\u001b[39m(\u001b[39m'\u001b[39m\u001b[39mdownloading \u001b[39m\u001b[39m'\u001b[39m\u001b[39m+\u001b[39mfile[\u001b[39m'\u001b[39m\u001b[39mfilename\u001b[39m\u001b[39m'\u001b[39m]\u001b[39m+\u001b[39m\u001b[39m'\u001b[39m\u001b[39m to \u001b[39m\u001b[39m'\u001b[39m\u001b[39m+\u001b[39mfullSavePath)\n\u001b[0;32m---> <a href='file:///~/Projects/AdVantage/vantage_api/services.py?line=64'>65</a>\u001b[0m \u001b[39mself\u001b[39m\u001b[39m.\u001b[39mgetPlatformFile(file[\u001b[39m'\u001b[39m\u001b[39mid\u001b[39m\u001b[39m'\u001b[39m])\u001b[39m.\u001b[39msaveToPath(fullSavePath, chunkSize\u001b[39m=\u001b[39mchunkSize)\n\u001b[1;32m     <a href='file:///~/Projects/AdVantage/vantage_api/services.py?line=65'>66</a>\u001b[0m \u001b[39mif\u001b[39;00m verbose:\n\u001b[1;32m     <a href='file:///~/Projects/AdVantage/vantage_api/services.py?line=66'>67</a>\u001b[0m     \u001b[39mprint\u001b[39m(\u001b[39m'\u001b[39m\u001b[39mdownloaded \u001b[39m\u001b[39m'\u001b[39m\u001b[39m+\u001b[39mfullSavePath)\n",
      "File \u001b[0;32m~/Projects/AdVantage/vantage_api/response.py:64\u001b[0m, in \u001b[0;36mPlaformFileResponse.saveToPath\u001b[0;34m(self, savePath)\u001b[0m\n\u001b[1;32m     <a href='file:///~/Projects/AdVantage/vantage_api/response.py?line=61'>62</a>\u001b[0m \u001b[39mdef\u001b[39;00m \u001b[39msaveToPath\u001b[39m(\u001b[39mself\u001b[39m, savePath, chunkSize \u001b[39m=\u001b[39m \u001b[39m8196\u001b[39m):\n\u001b[1;32m     <a href='file:///~/Projects/AdVantage/vantage_api/response.py?line=62'>63</a>\u001b[0m     \u001b[39mwith\u001b[39;00m \u001b[39mopen\u001b[39m(savePath, \u001b[39m\"\u001b[39m\u001b[39mwb\u001b[39m\u001b[39m\"\u001b[39m) \u001b[39mas\u001b[39;00m handle:\n\u001b[0;32m---> <a href='file:///~/Projects/AdVantage/vantage_api/response.py?line=63'>64</a>\u001b[0m         \u001b[39mfor\u001b[39;00m data \u001b[39min\u001b[39;00m \u001b[39mself\u001b[39m\u001b[39m.\u001b[39mresponse\u001b[39m.\u001b[39miter_content(chunkSize):\n\u001b[1;32m     <a href='file:///~/Projects/AdVantage/vantage_api/response.py?line=64'>65</a>\u001b[0m             handle\u001b[39m.\u001b[39mwrite(data)   \n\u001b[1;32m     <a href='file:///~/Projects/AdVantage/vantage_api/response.py?line=65'>66</a>\u001b[0m     \u001b[39mreturn\u001b[39;00m \u001b[39mself\u001b[39m\n",
      "File \u001b[0;32m/usr/lib/python3/dist-packages/requests/models.py:750\u001b[0m, in \u001b[0;36mResponse.iter_content.<locals>.generate\u001b[0;34m()\u001b[0m\n\u001b[1;32m    <a href='file:///usr/lib/python3/dist-packages/requests/models.py?line=747'>748</a>\u001b[0m \u001b[39mif\u001b[39;00m \u001b[39mhasattr\u001b[39m(\u001b[39mself\u001b[39m\u001b[39m.\u001b[39mraw, \u001b[39m'\u001b[39m\u001b[39mstream\u001b[39m\u001b[39m'\u001b[39m):\n\u001b[1;32m    <a href='file:///usr/lib/python3/dist-packages/requests/models.py?line=748'>749</a>\u001b[0m     \u001b[39mtry\u001b[39;00m:\n\u001b[0;32m--> <a href='file:///usr/lib/python3/dist-packages/requests/models.py?line=749'>750</a>\u001b[0m         \u001b[39mfor\u001b[39;00m chunk \u001b[39min\u001b[39;00m \u001b[39mself\u001b[39m\u001b[39m.\u001b[39mraw\u001b[39m.\u001b[39mstream(chunk_size, decode_content\u001b[39m=\u001b[39m\u001b[39mTrue\u001b[39;00m):\n\u001b[1;32m    <a href='file:///usr/lib/python3/dist-packages/requests/models.py?line=750'>751</a>\u001b[0m             \u001b[39myield\u001b[39;00m chunk\n\u001b[1;32m    <a href='file:///usr/lib/python3/dist-packages/requests/models.py?line=751'>752</a>\u001b[0m     \u001b[39mexcept\u001b[39;00m ProtocolError \u001b[39mas\u001b[39;00m e:\n",
      "File \u001b[0;32m/usr/lib/python3/dist-packages/urllib3/response.py:564\u001b[0m, in \u001b[0;36mHTTPResponse.stream\u001b[0;34m(self, amt, decode_content)\u001b[0m\n\u001b[1;32m    <a href='file:///usr/lib/python3/dist-packages/urllib3/response.py?line=561'>562</a>\u001b[0m \u001b[39melse\u001b[39;00m:\n\u001b[1;32m    <a href='file:///usr/lib/python3/dist-packages/urllib3/response.py?line=562'>563</a>\u001b[0m     \u001b[39mwhile\u001b[39;00m \u001b[39mnot\u001b[39;00m is_fp_closed(\u001b[39mself\u001b[39m\u001b[39m.\u001b[39m_fp):\n\u001b[0;32m--> <a href='file:///usr/lib/python3/dist-packages/urllib3/response.py?line=563'>564</a>\u001b[0m         data \u001b[39m=\u001b[39m \u001b[39mself\u001b[39;49m\u001b[39m.\u001b[39;49mread(amt\u001b[39m=\u001b[39;49mamt, decode_content\u001b[39m=\u001b[39;49mdecode_content)\n\u001b[1;32m    <a href='file:///usr/lib/python3/dist-packages/urllib3/response.py?line=565'>566</a>\u001b[0m         \u001b[39mif\u001b[39;00m data:\n\u001b[1;32m    <a href='file:///usr/lib/python3/dist-packages/urllib3/response.py?line=566'>567</a>\u001b[0m             \u001b[39myield\u001b[39;00m data\n",
      "File \u001b[0;32m/usr/lib/python3/dist-packages/urllib3/response.py:507\u001b[0m, in \u001b[0;36mHTTPResponse.read\u001b[0;34m(self, amt, decode_content, cache_content)\u001b[0m\n\u001b[1;32m    <a href='file:///usr/lib/python3/dist-packages/urllib3/response.py?line=504'>505</a>\u001b[0m \u001b[39melse\u001b[39;00m:\n\u001b[1;32m    <a href='file:///usr/lib/python3/dist-packages/urllib3/response.py?line=505'>506</a>\u001b[0m     cache_content \u001b[39m=\u001b[39m \u001b[39mFalse\u001b[39;00m\n\u001b[0;32m--> <a href='file:///usr/lib/python3/dist-packages/urllib3/response.py?line=506'>507</a>\u001b[0m     data \u001b[39m=\u001b[39m \u001b[39mself\u001b[39;49m\u001b[39m.\u001b[39;49m_fp\u001b[39m.\u001b[39;49mread(amt) \u001b[39mif\u001b[39;00m \u001b[39mnot\u001b[39;00m fp_closed \u001b[39melse\u001b[39;00m \u001b[39mb\u001b[39m\u001b[39m\"\u001b[39m\u001b[39m\"\u001b[39m\n\u001b[1;32m    <a href='file:///usr/lib/python3/dist-packages/urllib3/response.py?line=507'>508</a>\u001b[0m     \u001b[39mif\u001b[39;00m (\n\u001b[1;32m    <a href='file:///usr/lib/python3/dist-packages/urllib3/response.py?line=508'>509</a>\u001b[0m         amt \u001b[39m!=\u001b[39m \u001b[39m0\u001b[39m \u001b[39mand\u001b[39;00m \u001b[39mnot\u001b[39;00m data\n\u001b[1;32m    <a href='file:///usr/lib/python3/dist-packages/urllib3/response.py?line=509'>510</a>\u001b[0m     ):  \u001b[39m# Platform-specific: Buggy versions of Python.\u001b[39;00m\n\u001b[0;32m   (...)\u001b[0m\n\u001b[1;32m    <a href='file:///usr/lib/python3/dist-packages/urllib3/response.py?line=515'>516</a>\u001b[0m         \u001b[39m# not properly close the connection in all cases. There is\u001b[39;00m\n\u001b[1;32m    <a href='file:///usr/lib/python3/dist-packages/urllib3/response.py?line=516'>517</a>\u001b[0m         \u001b[39m# no harm in redundantly calling close.\u001b[39;00m\n\u001b[1;32m    <a href='file:///usr/lib/python3/dist-packages/urllib3/response.py?line=517'>518</a>\u001b[0m         \u001b[39mself\u001b[39m\u001b[39m.\u001b[39m_fp\u001b[39m.\u001b[39mclose()\n",
      "File \u001b[0;32m/usr/lib/python3.8/http/client.py:460\u001b[0m, in \u001b[0;36mHTTPResponse.read\u001b[0;34m(self, amt)\u001b[0m\n\u001b[1;32m    <a href='file:///usr/lib/python3.8/http/client.py?line=457'>458</a>\u001b[0m     b \u001b[39m=\u001b[39m \u001b[39mbytearray\u001b[39m(amt)\n\u001b[1;32m    <a href='file:///usr/lib/python3.8/http/client.py?line=458'>459</a>\u001b[0m     n \u001b[39m=\u001b[39m \u001b[39mself\u001b[39m\u001b[39m.\u001b[39mreadinto(b)\n\u001b[0;32m--> <a href='file:///usr/lib/python3.8/http/client.py?line=459'>460</a>\u001b[0m     \u001b[39mreturn\u001b[39;00m \u001b[39mmemoryview\u001b[39;49m(b)[:n]\u001b[39m.\u001b[39;49mtobytes()\n\u001b[1;32m    <a href='file:///usr/lib/python3.8/http/client.py?line=460'>461</a>\u001b[0m \u001b[39melse\u001b[39;00m:\n\u001b[1;32m    <a href='file:///usr/lib/python3.8/http/client.py?line=461'>462</a>\u001b[0m     \u001b[39m# Amount is not given (unbounded read) so we must check self.length\u001b[39;00m\n\u001b[1;32m    <a href='file:///usr/lib/python3.8/http/client.py?line=462'>463</a>\u001b[0m     \u001b[39m# and self.chunked\u001b[39;00m\n\u001b[1;32m    <a href='file:///usr/lib/python3.8/http/client.py?line=464'>465</a>\u001b[0m     \u001b[39mif\u001b[39;00m \u001b[39mself\u001b[39m\u001b[39m.\u001b[39mchunked:\n",
      "\u001b[0;31mKeyboardInterrupt\u001b[0m: "
     ]
    }
   ],
   "source": [
    "outputFileList = vantageApi.downloadFiles(firstFeature, './',  label='downloadJob', waitTime=10, verbose = True)"
   ]
  },
  {
   "cell_type": "markdown",
   "metadata": {},
   "source": [
    "## Downloading stablised video\n",
    "To download a stablised video, call the stabliseVideo method with the url and the save folder you would like to download to\n",
    " "
   ]
  },
  {
   "cell_type": "code",
   "execution_count": null,
   "metadata": {},
   "outputs": [],
   "source": [
    "outputFileList = vantageApi.stabliseVideo(firstFeature,'./', verbose=True)\n",
    "print(outputFileList)"
   ]
  }
 ],
 "metadata": {
  "interpreter": {
   "hash": "916dbcbb3f70747c44a77c7bcd40155683ae19c65e1c03b4aa3499c5328201f1"
  },
  "kernelspec": {
   "display_name": "Python 3.8.10 64-bit",
   "language": "python",
   "name": "python3"
  },
  "language_info": {
   "codemirror_mode": {
    "name": "ipython",
    "version": 3
   },
   "file_extension": ".py",
   "mimetype": "text/x-python",
   "name": "python",
   "nbconvert_exporter": "python",
   "pygments_lexer": "ipython3",
   "version": "3.8.10"
  },
  "orig_nbformat": 4
 },
 "nbformat": 4,
 "nbformat_minor": 2
}
