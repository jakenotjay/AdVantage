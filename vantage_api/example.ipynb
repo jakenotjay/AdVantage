{
 "cells": [
  {
   "cell_type": "markdown",
   "metadata": {},
   "source": [
    "# Vantage API\n",
    "A Package to make performing tasks on the Vantage platform easier to deal with. \n",
    "\n",
    "## Setup the API"
   ]
  },
  {
   "cell_type": "code",
   "execution_count": 11,
   "metadata": {},
   "outputs": [],
   "source": [
    "import getpass\n",
    "from services import VantageServiceApi\n",
    "\n",
    "user = getpass.getpass('Username: ')\n",
    "apiKey = getpass.getpass('API Key: ')\n",
    "\n",
    "vantageApi = VantageServiceApi(user, apiKey)"
   ]
  },
  {
   "cell_type": "markdown",
   "metadata": {},
   "source": [
    "# Getting Vivid-X Video List Based on Geo Point\n",
    "To make a request you first need to create your bounding box to search between. This is done using the GeoPoints class and providing a list of Longitude and Latitudes\n",
    "\n",
    "Returned is a map of the video id and the url"
   ]
  },
  {
   "cell_type": "code",
   "execution_count": 12,
   "metadata": {},
   "outputs": [
    {
     "name": "stdout",
     "output_type": "stream",
     "text": [
      "VX020003b9 = https://esrin-data-input.s3.eu-west-2.amazonaws.com/Vivid-X2/VX020003b9.zip\n"
     ]
    }
   ],
   "source": [
    "from utils import GeoRequest\n",
    "geoData = GeoRequest()\n",
    "geoData.fromArray([\n",
    "    [165.12764544844623, -47.53375265272916],\n",
    "    [179.5568484551946, -47.53375265272916],\n",
    "    [179.5568484551946, -33.63503505064067],\n",
    "    [165.12764544844623, -33.63503505064067],\n",
    "    [165.12764544844623, -47.53375265272916]\n",
    "])\n",
    "features = vantageApi.getSearch(geoData).getFeatures()\n",
    "# print(features)\n",
    "keys = list(features.keys())\n",
    "firstFeature = features[keys[0]]\n",
    "print(keys[0],'=', firstFeature)"
   ]
  },
  {
   "cell_type": "markdown",
   "metadata": {},
   "source": [
    "# Downloading Video\n",
    "Downloading video requires interacting with the api requiring a few api calls to complete the required steps to download the video. This api abstracts this into a simple call which will create the job, wait for it to complete, then download the video."
   ]
  },
  {
   "cell_type": "code",
   "execution_count": null,
   "metadata": {},
   "outputs": [],
   "source": [
    "outputFileList = vantageApi.downloadFiles(firstFeature, './',  label='downloadJob', waitTime=10, verbose = True)"
   ]
  },
  {
   "cell_type": "markdown",
   "metadata": {},
   "source": [
    "## Downloading stablised video\n",
    "To download a stablised video, call the stabliseVideo method with the url and the save folder you would like to download to\n",
    " "
   ]
  },
  {
   "cell_type": "code",
   "execution_count": null,
   "metadata": {},
   "outputs": [],
   "source": [
    "outputFileList = vantageApi.stabliseVideo(firstFeature,'./', verbose=True)\n",
    "print(outputFileList)"
   ]
  }
 ],
 "metadata": {
  "interpreter": {
   "hash": "916dbcbb3f70747c44a77c7bcd40155683ae19c65e1c03b4aa3499c5328201f1"
  },
  "kernelspec": {
   "display_name": "Python 3.8.10 64-bit",
   "language": "python",
   "name": "python3"
  },
  "language_info": {
   "codemirror_mode": {
    "name": "ipython",
    "version": 3
   },
   "file_extension": ".py",
   "mimetype": "text/x-python",
   "name": "python",
   "nbconvert_exporter": "python",
   "pygments_lexer": "ipython3",
   "version": "3.8.10"
  },
  "orig_nbformat": 4
 },
 "nbformat": 4,
 "nbformat_minor": 2
}
